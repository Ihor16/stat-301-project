{
 "cells": [
  {
   "cell_type": "markdown",
   "id": "eee3677b-17e1-414c-bcd4-c3e2ee660047",
   "metadata": {},
   "source": [
    "# Title:"
   ]
  },
  {
   "cell_type": "markdown",
   "id": "59ae95cd-a23d-4388-b5de-439269241a28",
   "metadata": {},
   "source": [
    "## Introduction"
   ]
  },
  {
   "cell_type": "markdown",
   "id": "8a994ca4-9e46-4e62-8167-281a7f9c33ae",
   "metadata": {},
   "source": [
    "## Exploratory Data Analysis"
   ]
  },
  {
   "cell_type": "markdown",
   "id": "837e980d-1777-4442-9e1f-b017266d67e3",
   "metadata": {},
   "source": [
    "## Methods: Plan"
   ]
  },
  {
   "cell_type": "markdown",
   "id": "bc8f5ec0-5c30-45d9-9682-24ccc098f0ec",
   "metadata": {},
   "source": [
    "## References"
   ]
  }
 ],
 "metadata": {
  "kernelspec": {
   "display_name": "R",
   "language": "R",
   "name": "ir"
  },
  "language_info": {
   "codemirror_mode": "r",
   "file_extension": ".r",
   "mimetype": "text/x-r-source",
   "name": "R",
   "pygments_lexer": "r",
   "version": "4.1.3"
  }
 },
 "nbformat": 4,
 "nbformat_minor": 5
}
