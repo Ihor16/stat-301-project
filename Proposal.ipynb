{
 "cells": [
  {
   "cell_type": "markdown",
   "id": "59ae95cd-a23d-4388-b5de-439269241a28",
   "metadata": {},
   "source": [
    "## Which study habits impact student performance most significantly?"
   ]
  },
  {
   "cell_type": "markdown",
   "id": "8eab3b48-3345-48ce-9d64-4c4c6d1d7eee",
   "metadata": {},
   "source": [
    "## Introduction (100 words)\n",
    "\n",
    "Some students struggle with getting good grades because they need to learn how to study (!!! citation). Therefore, we want to create a statistical model that explains which study habits most significantly impact students' performance.\n",
    "\n",
    "For this, we want to analyze the student performance data collected by surveying students from Engineering and Educational Sciences faculties in 2021 (!!! data set). This data set contains variables that outline students' studying habits and end-of-term grades. Thus, we plan to perform an inferential analysis to create a generative model describing the behavioral attributes associated with good performance."
   ]
  },
  {
   "cell_type": "markdown",
   "id": "8a994ca4-9e46-4e62-8167-281a7f9c33ae",
   "metadata": {},
   "source": [
    "## Exploratory Data Analysis (200 words)"
   ]
  },
  {
   "cell_type": "code",
   "execution_count": 1,
   "id": "009d0c5f-509d-4935-ba6a-f0664d8760de",
   "metadata": {},
   "outputs": [
    {
     "name": "stderr",
     "output_type": "stream",
     "text": [
      "── \u001b[1mAttaching packages\u001b[22m ─────────────────────────────────────── tidyverse 1.3.2 ──\n",
      "\u001b[32m✔\u001b[39m \u001b[34mggplot2\u001b[39m 3.3.6      \u001b[32m✔\u001b[39m \u001b[34mpurrr  \u001b[39m 0.3.5 \n",
      "\u001b[32m✔\u001b[39m \u001b[34mtibble \u001b[39m 3.1.8      \u001b[32m✔\u001b[39m \u001b[34mdplyr  \u001b[39m 1.0.10\n",
      "\u001b[32m✔\u001b[39m \u001b[34mtidyr  \u001b[39m 1.2.1      \u001b[32m✔\u001b[39m \u001b[34mstringr\u001b[39m 1.4.1 \n",
      "\u001b[32m✔\u001b[39m \u001b[34mreadr  \u001b[39m 2.1.3      \u001b[32m✔\u001b[39m \u001b[34mforcats\u001b[39m 0.5.2 \n",
      "── \u001b[1mConflicts\u001b[22m ────────────────────────────────────────── tidyverse_conflicts() ──\n",
      "\u001b[31m✖\u001b[39m \u001b[34mdplyr\u001b[39m::\u001b[32mfilter()\u001b[39m masks \u001b[34mstats\u001b[39m::filter()\n",
      "\u001b[31m✖\u001b[39m \u001b[34mdplyr\u001b[39m::\u001b[32mlag()\u001b[39m    masks \u001b[34mstats\u001b[39m::lag()\n"
     ]
    }
   ],
   "source": [
    "# Loading the packages and setting the seed\n",
    "library(tidyverse)\n",
    "set.seed(1)"
   ]
  },
  {
   "cell_type": "markdown",
   "id": "2fc0838f-f0a5-44c9-97e2-eca2b13b693e",
   "metadata": {},
   "source": [
    "We can download the data directly from the data set's website."
   ]
  },
  {
   "cell_type": "code",
   "execution_count": 7,
   "id": "22398d8a-3713-46e3-b4b9-9244d3f91444",
   "metadata": {},
   "outputs": [
    {
     "name": "stderr",
     "output_type": "stream",
     "text": [
      "\u001b[1mRows: \u001b[22m\u001b[34m145\u001b[39m \u001b[1mColumns: \u001b[22m\u001b[34m33\u001b[39m\n",
      "\u001b[36m──\u001b[39m \u001b[1mColumn specification\u001b[22m \u001b[36m────────────────────────────────────────────────────────\u001b[39m\n",
      "\u001b[1mDelimiter:\u001b[22m \";\"\n",
      "\u001b[31mchr\u001b[39m  (1): STUDENT ID\n",
      "\u001b[32mdbl\u001b[39m (32): 1, 2, 3, 4, 5, 6, 7, 8, 9, 10, 11, 12, 13, 14, 15, 16, 17, 18, 19,...\n",
      "\n",
      "\u001b[36mℹ\u001b[39m Use `spec()` to retrieve the full column specification for this data.\n",
      "\u001b[36mℹ\u001b[39m Specify the column types or set `show_col_types = FALSE` to quiet this message.\n"
     ]
    },
    {
     "data": {
      "text/html": [
       "<table class=\"dataframe\">\n",
       "<caption>A tibble: 6 × 33</caption>\n",
       "<thead>\n",
       "\t<tr><th scope=col>STUDENT ID</th><th scope=col>1</th><th scope=col>2</th><th scope=col>3</th><th scope=col>4</th><th scope=col>5</th><th scope=col>6</th><th scope=col>7</th><th scope=col>8</th><th scope=col>9</th><th scope=col>⋯</th><th scope=col>23</th><th scope=col>24</th><th scope=col>25</th><th scope=col>26</th><th scope=col>27</th><th scope=col>28</th><th scope=col>29</th><th scope=col>30</th><th scope=col>COURSE ID</th><th scope=col>GRADE</th></tr>\n",
       "\t<tr><th scope=col>&lt;chr&gt;</th><th scope=col>&lt;dbl&gt;</th><th scope=col>&lt;dbl&gt;</th><th scope=col>&lt;dbl&gt;</th><th scope=col>&lt;dbl&gt;</th><th scope=col>&lt;dbl&gt;</th><th scope=col>&lt;dbl&gt;</th><th scope=col>&lt;dbl&gt;</th><th scope=col>&lt;dbl&gt;</th><th scope=col>&lt;dbl&gt;</th><th scope=col>⋯</th><th scope=col>&lt;dbl&gt;</th><th scope=col>&lt;dbl&gt;</th><th scope=col>&lt;dbl&gt;</th><th scope=col>&lt;dbl&gt;</th><th scope=col>&lt;dbl&gt;</th><th scope=col>&lt;dbl&gt;</th><th scope=col>&lt;dbl&gt;</th><th scope=col>&lt;dbl&gt;</th><th scope=col>&lt;dbl&gt;</th><th scope=col>&lt;dbl&gt;</th></tr>\n",
       "</thead>\n",
       "<tbody>\n",
       "\t<tr><td>STUDENT1</td><td>2</td><td>2</td><td>3</td><td>3</td><td>1</td><td>2</td><td>2</td><td>1</td><td>1</td><td>⋯</td><td>1</td><td>1</td><td>3</td><td>2</td><td>1</td><td>2</td><td>1</td><td>1</td><td>1</td><td>1</td></tr>\n",
       "\t<tr><td>STUDENT2</td><td>2</td><td>2</td><td>3</td><td>3</td><td>1</td><td>2</td><td>2</td><td>1</td><td>1</td><td>⋯</td><td>1</td><td>1</td><td>3</td><td>2</td><td>3</td><td>2</td><td>2</td><td>3</td><td>1</td><td>1</td></tr>\n",
       "\t<tr><td>STUDENT3</td><td>2</td><td>2</td><td>2</td><td>3</td><td>2</td><td>2</td><td>2</td><td>2</td><td>4</td><td>⋯</td><td>1</td><td>1</td><td>2</td><td>2</td><td>1</td><td>1</td><td>2</td><td>2</td><td>1</td><td>1</td></tr>\n",
       "\t<tr><td>STUDENT4</td><td>1</td><td>1</td><td>1</td><td>3</td><td>1</td><td>2</td><td>1</td><td>2</td><td>1</td><td>⋯</td><td>1</td><td>2</td><td>3</td><td>2</td><td>2</td><td>1</td><td>3</td><td>2</td><td>1</td><td>1</td></tr>\n",
       "\t<tr><td>STUDENT5</td><td>2</td><td>2</td><td>1</td><td>3</td><td>2</td><td>2</td><td>1</td><td>3</td><td>1</td><td>⋯</td><td>2</td><td>1</td><td>2</td><td>2</td><td>2</td><td>1</td><td>2</td><td>2</td><td>1</td><td>1</td></tr>\n",
       "\t<tr><td>STUDENT6</td><td>2</td><td>2</td><td>2</td><td>3</td><td>2</td><td>2</td><td>2</td><td>2</td><td>1</td><td>⋯</td><td>1</td><td>1</td><td>1</td><td>2</td><td>1</td><td>2</td><td>4</td><td>4</td><td>1</td><td>2</td></tr>\n",
       "</tbody>\n",
       "</table>\n"
      ],
      "text/latex": [
       "A tibble: 6 × 33\n",
       "\\begin{tabular}{lllllllllllllllllllll}\n",
       " STUDENT ID & 1 & 2 & 3 & 4 & 5 & 6 & 7 & 8 & 9 & ⋯ & 23 & 24 & 25 & 26 & 27 & 28 & 29 & 30 & COURSE ID & GRADE\\\\\n",
       " <chr> & <dbl> & <dbl> & <dbl> & <dbl> & <dbl> & <dbl> & <dbl> & <dbl> & <dbl> & ⋯ & <dbl> & <dbl> & <dbl> & <dbl> & <dbl> & <dbl> & <dbl> & <dbl> & <dbl> & <dbl>\\\\\n",
       "\\hline\n",
       "\t STUDENT1 & 2 & 2 & 3 & 3 & 1 & 2 & 2 & 1 & 1 & ⋯ & 1 & 1 & 3 & 2 & 1 & 2 & 1 & 1 & 1 & 1\\\\\n",
       "\t STUDENT2 & 2 & 2 & 3 & 3 & 1 & 2 & 2 & 1 & 1 & ⋯ & 1 & 1 & 3 & 2 & 3 & 2 & 2 & 3 & 1 & 1\\\\\n",
       "\t STUDENT3 & 2 & 2 & 2 & 3 & 2 & 2 & 2 & 2 & 4 & ⋯ & 1 & 1 & 2 & 2 & 1 & 1 & 2 & 2 & 1 & 1\\\\\n",
       "\t STUDENT4 & 1 & 1 & 1 & 3 & 1 & 2 & 1 & 2 & 1 & ⋯ & 1 & 2 & 3 & 2 & 2 & 1 & 3 & 2 & 1 & 1\\\\\n",
       "\t STUDENT5 & 2 & 2 & 1 & 3 & 2 & 2 & 1 & 3 & 1 & ⋯ & 2 & 1 & 2 & 2 & 2 & 1 & 2 & 2 & 1 & 1\\\\\n",
       "\t STUDENT6 & 2 & 2 & 2 & 3 & 2 & 2 & 2 & 2 & 1 & ⋯ & 1 & 1 & 1 & 2 & 1 & 2 & 4 & 4 & 1 & 2\\\\\n",
       "\\end{tabular}\n"
      ],
      "text/markdown": [
       "\n",
       "A tibble: 6 × 33\n",
       "\n",
       "| STUDENT ID &lt;chr&gt; | 1 &lt;dbl&gt; | 2 &lt;dbl&gt; | 3 &lt;dbl&gt; | 4 &lt;dbl&gt; | 5 &lt;dbl&gt; | 6 &lt;dbl&gt; | 7 &lt;dbl&gt; | 8 &lt;dbl&gt; | 9 &lt;dbl&gt; | ⋯ ⋯ | 23 &lt;dbl&gt; | 24 &lt;dbl&gt; | 25 &lt;dbl&gt; | 26 &lt;dbl&gt; | 27 &lt;dbl&gt; | 28 &lt;dbl&gt; | 29 &lt;dbl&gt; | 30 &lt;dbl&gt; | COURSE ID &lt;dbl&gt; | GRADE &lt;dbl&gt; |\n",
       "|---|---|---|---|---|---|---|---|---|---|---|---|---|---|---|---|---|---|---|---|---|\n",
       "| STUDENT1 | 2 | 2 | 3 | 3 | 1 | 2 | 2 | 1 | 1 | ⋯ | 1 | 1 | 3 | 2 | 1 | 2 | 1 | 1 | 1 | 1 |\n",
       "| STUDENT2 | 2 | 2 | 3 | 3 | 1 | 2 | 2 | 1 | 1 | ⋯ | 1 | 1 | 3 | 2 | 3 | 2 | 2 | 3 | 1 | 1 |\n",
       "| STUDENT3 | 2 | 2 | 2 | 3 | 2 | 2 | 2 | 2 | 4 | ⋯ | 1 | 1 | 2 | 2 | 1 | 1 | 2 | 2 | 1 | 1 |\n",
       "| STUDENT4 | 1 | 1 | 1 | 3 | 1 | 2 | 1 | 2 | 1 | ⋯ | 1 | 2 | 3 | 2 | 2 | 1 | 3 | 2 | 1 | 1 |\n",
       "| STUDENT5 | 2 | 2 | 1 | 3 | 2 | 2 | 1 | 3 | 1 | ⋯ | 2 | 1 | 2 | 2 | 2 | 1 | 2 | 2 | 1 | 1 |\n",
       "| STUDENT6 | 2 | 2 | 2 | 3 | 2 | 2 | 2 | 2 | 1 | ⋯ | 1 | 1 | 1 | 2 | 1 | 2 | 4 | 4 | 1 | 2 |\n",
       "\n"
      ],
      "text/plain": [
       "  STUDENT ID 1 2 3 4 5 6 7 8 9 ⋯ 23 24 25 26 27 28 29 30 COURSE ID GRADE\n",
       "1 STUDENT1   2 2 3 3 1 2 2 1 1 ⋯ 1  1  3  2  1  2  1  1  1         1    \n",
       "2 STUDENT2   2 2 3 3 1 2 2 1 1 ⋯ 1  1  3  2  3  2  2  3  1         1    \n",
       "3 STUDENT3   2 2 2 3 2 2 2 2 4 ⋯ 1  1  2  2  1  1  2  2  1         1    \n",
       "4 STUDENT4   1 1 1 3 1 2 1 2 1 ⋯ 1  2  3  2  2  1  3  2  1         1    \n",
       "5 STUDENT5   2 2 1 3 2 2 1 3 1 ⋯ 2  1  2  2  2  1  2  2  1         1    \n",
       "6 STUDENT6   2 2 2 3 2 2 2 2 1 ⋯ 1  1  1  2  1  2  4  4  1         2    "
      ]
     },
     "metadata": {},
     "output_type": "display_data"
    }
   ],
   "source": [
    "# Downloading the data\n",
    "raw_data <- read_delim(\n",
    "  file = \"https://archive.ics.uci.edu/ml/machine-learning-databases/00623/DATA.csv\",\n",
    "  delim = \";\"\n",
    ")\n",
    "\n",
    "raw_data %>%\n",
    "  head()"
   ]
  },
  {
   "cell_type": "markdown",
   "id": "f57588ed-56ab-4e7b-94b5-4a7b66d0f0bf",
   "metadata": {},
   "source": [
    "The data set contains 3 types of variables: \n",
    "- personal information\n",
    "- family information\n",
    "- education habits\n",
    "\n",
    "For our analysis, we need to only the last one, so we select the subset of the data below."
   ]
  },
  {
   "cell_type": "code",
   "execution_count": 3,
   "id": "8ce2eeca-b4b2-42ae-8c66-eaabdcff21b1",
   "metadata": {},
   "outputs": [
    {
     "data": {
      "text/html": [
       "<table class=\"dataframe\">\n",
       "<caption>A tibble: 6 × 10</caption>\n",
       "<thead>\n",
       "\t<tr><th scope=col>17</th><th scope=col>18</th><th scope=col>19</th><th scope=col>20</th><th scope=col>22</th><th scope=col>23</th><th scope=col>24</th><th scope=col>25</th><th scope=col>26</th><th scope=col>GRADE</th></tr>\n",
       "\t<tr><th scope=col>&lt;dbl&gt;</th><th scope=col>&lt;dbl&gt;</th><th scope=col>&lt;dbl&gt;</th><th scope=col>&lt;dbl&gt;</th><th scope=col>&lt;dbl&gt;</th><th scope=col>&lt;dbl&gt;</th><th scope=col>&lt;dbl&gt;</th><th scope=col>&lt;dbl&gt;</th><th scope=col>&lt;dbl&gt;</th><th scope=col>&lt;dbl&gt;</th></tr>\n",
       "</thead>\n",
       "<tbody>\n",
       "\t<tr><td>3</td><td>2</td><td>2</td><td>1</td><td>1</td><td>1</td><td>1</td><td>3</td><td>2</td><td>1</td></tr>\n",
       "\t<tr><td>2</td><td>2</td><td>2</td><td>1</td><td>1</td><td>1</td><td>1</td><td>3</td><td>2</td><td>1</td></tr>\n",
       "\t<tr><td>2</td><td>1</td><td>2</td><td>1</td><td>1</td><td>1</td><td>1</td><td>2</td><td>2</td><td>1</td></tr>\n",
       "\t<tr><td>3</td><td>1</td><td>2</td><td>1</td><td>1</td><td>1</td><td>2</td><td>3</td><td>2</td><td>1</td></tr>\n",
       "\t<tr><td>2</td><td>1</td><td>1</td><td>1</td><td>1</td><td>2</td><td>1</td><td>2</td><td>2</td><td>1</td></tr>\n",
       "\t<tr><td>1</td><td>1</td><td>2</td><td>1</td><td>1</td><td>1</td><td>1</td><td>1</td><td>2</td><td>2</td></tr>\n",
       "</tbody>\n",
       "</table>\n"
      ],
      "text/latex": [
       "A tibble: 6 × 10\n",
       "\\begin{tabular}{llllllllll}\n",
       " 17 & 18 & 19 & 20 & 22 & 23 & 24 & 25 & 26 & GRADE\\\\\n",
       " <dbl> & <dbl> & <dbl> & <dbl> & <dbl> & <dbl> & <dbl> & <dbl> & <dbl> & <dbl>\\\\\n",
       "\\hline\n",
       "\t 3 & 2 & 2 & 1 & 1 & 1 & 1 & 3 & 2 & 1\\\\\n",
       "\t 2 & 2 & 2 & 1 & 1 & 1 & 1 & 3 & 2 & 1\\\\\n",
       "\t 2 & 1 & 2 & 1 & 1 & 1 & 1 & 2 & 2 & 1\\\\\n",
       "\t 3 & 1 & 2 & 1 & 1 & 1 & 2 & 3 & 2 & 1\\\\\n",
       "\t 2 & 1 & 1 & 1 & 1 & 2 & 1 & 2 & 2 & 1\\\\\n",
       "\t 1 & 1 & 2 & 1 & 1 & 1 & 1 & 1 & 2 & 2\\\\\n",
       "\\end{tabular}\n"
      ],
      "text/markdown": [
       "\n",
       "A tibble: 6 × 10\n",
       "\n",
       "| 17 &lt;dbl&gt; | 18 &lt;dbl&gt; | 19 &lt;dbl&gt; | 20 &lt;dbl&gt; | 22 &lt;dbl&gt; | 23 &lt;dbl&gt; | 24 &lt;dbl&gt; | 25 &lt;dbl&gt; | 26 &lt;dbl&gt; | GRADE &lt;dbl&gt; |\n",
       "|---|---|---|---|---|---|---|---|---|---|\n",
       "| 3 | 2 | 2 | 1 | 1 | 1 | 1 | 3 | 2 | 1 |\n",
       "| 2 | 2 | 2 | 1 | 1 | 1 | 1 | 3 | 2 | 1 |\n",
       "| 2 | 1 | 2 | 1 | 1 | 1 | 1 | 2 | 2 | 1 |\n",
       "| 3 | 1 | 2 | 1 | 1 | 1 | 2 | 3 | 2 | 1 |\n",
       "| 2 | 1 | 1 | 1 | 1 | 2 | 1 | 2 | 2 | 1 |\n",
       "| 1 | 1 | 2 | 1 | 1 | 1 | 1 | 1 | 2 | 2 |\n",
       "\n"
      ],
      "text/plain": [
       "  17 18 19 20 22 23 24 25 26 GRADE\n",
       "1 3  2  2  1  1  1  1  3  2  1    \n",
       "2 2  2  2  1  1  1  1  3  2  1    \n",
       "3 2  1  2  1  1  1  1  2  2  1    \n",
       "4 3  1  2  1  1  1  2  3  2  1    \n",
       "5 2  1  1  1  1  2  1  2  2  1    \n",
       "6 1  1  2  1  1  1  1  1  2  2    "
      ]
     },
     "metadata": {},
     "output_type": "display_data"
    }
   ],
   "source": [
    "# Filtering to include only study habits\n",
    "student_data <- raw_data %>%\n",
    "  select(`17`:`GRADE`) %>%\n",
    "  select(-`21`, -`27`, -`28`, -`29`, -`30`, -`COURSE ID`)\n",
    "\n",
    "student_data %>% \n",
    "  head()"
   ]
  },
  {
   "cell_type": "markdown",
   "id": "be818a77-2f39-4512-b598-3e1416481e99",
   "metadata": {},
   "source": [
    "Additionally, the original data set's column names are numbers, which correspond to various attributes. We rename them according to the data set's documentation to make our further analysis clearer."
   ]
  },
  {
   "cell_type": "code",
   "execution_count": 4,
   "id": "2abe15f3-daf7-4abb-a3bd-86874fd5e0a1",
   "metadata": {},
   "outputs": [
    {
     "data": {
      "text/html": [
       "<table class=\"dataframe\">\n",
       "<caption>A tibble: 6 × 10</caption>\n",
       "<thead>\n",
       "\t<tr><th scope=col>weekly_study_hours</th><th scope=col>reading_non_scientific</th><th scope=col>reading_scientific</th><th scope=col>attendance_seminars</th><th scope=col>attendance_classes</th><th scope=col>preparation_to_midterm_1</th><th scope=col>preparation_to_midterm_2</th><th scope=col>taking_notes</th><th scope=col>listening</th><th scope=col>grade</th></tr>\n",
       "\t<tr><th scope=col>&lt;dbl&gt;</th><th scope=col>&lt;dbl&gt;</th><th scope=col>&lt;dbl&gt;</th><th scope=col>&lt;dbl&gt;</th><th scope=col>&lt;dbl&gt;</th><th scope=col>&lt;dbl&gt;</th><th scope=col>&lt;dbl&gt;</th><th scope=col>&lt;dbl&gt;</th><th scope=col>&lt;dbl&gt;</th><th scope=col>&lt;dbl&gt;</th></tr>\n",
       "</thead>\n",
       "<tbody>\n",
       "\t<tr><td>3</td><td>2</td><td>2</td><td>1</td><td>1</td><td>1</td><td>1</td><td>3</td><td>2</td><td>1</td></tr>\n",
       "\t<tr><td>2</td><td>2</td><td>2</td><td>1</td><td>1</td><td>1</td><td>1</td><td>3</td><td>2</td><td>1</td></tr>\n",
       "\t<tr><td>2</td><td>1</td><td>2</td><td>1</td><td>1</td><td>1</td><td>1</td><td>2</td><td>2</td><td>1</td></tr>\n",
       "\t<tr><td>3</td><td>1</td><td>2</td><td>1</td><td>1</td><td>1</td><td>2</td><td>3</td><td>2</td><td>1</td></tr>\n",
       "\t<tr><td>2</td><td>1</td><td>1</td><td>1</td><td>1</td><td>2</td><td>1</td><td>2</td><td>2</td><td>1</td></tr>\n",
       "\t<tr><td>1</td><td>1</td><td>2</td><td>1</td><td>1</td><td>1</td><td>1</td><td>1</td><td>2</td><td>2</td></tr>\n",
       "</tbody>\n",
       "</table>\n"
      ],
      "text/latex": [
       "A tibble: 6 × 10\n",
       "\\begin{tabular}{llllllllll}\n",
       " weekly\\_study\\_hours & reading\\_non\\_scientific & reading\\_scientific & attendance\\_seminars & attendance\\_classes & preparation\\_to\\_midterm\\_1 & preparation\\_to\\_midterm\\_2 & taking\\_notes & listening & grade\\\\\n",
       " <dbl> & <dbl> & <dbl> & <dbl> & <dbl> & <dbl> & <dbl> & <dbl> & <dbl> & <dbl>\\\\\n",
       "\\hline\n",
       "\t 3 & 2 & 2 & 1 & 1 & 1 & 1 & 3 & 2 & 1\\\\\n",
       "\t 2 & 2 & 2 & 1 & 1 & 1 & 1 & 3 & 2 & 1\\\\\n",
       "\t 2 & 1 & 2 & 1 & 1 & 1 & 1 & 2 & 2 & 1\\\\\n",
       "\t 3 & 1 & 2 & 1 & 1 & 1 & 2 & 3 & 2 & 1\\\\\n",
       "\t 2 & 1 & 1 & 1 & 1 & 2 & 1 & 2 & 2 & 1\\\\\n",
       "\t 1 & 1 & 2 & 1 & 1 & 1 & 1 & 1 & 2 & 2\\\\\n",
       "\\end{tabular}\n"
      ],
      "text/markdown": [
       "\n",
       "A tibble: 6 × 10\n",
       "\n",
       "| weekly_study_hours &lt;dbl&gt; | reading_non_scientific &lt;dbl&gt; | reading_scientific &lt;dbl&gt; | attendance_seminars &lt;dbl&gt; | attendance_classes &lt;dbl&gt; | preparation_to_midterm_1 &lt;dbl&gt; | preparation_to_midterm_2 &lt;dbl&gt; | taking_notes &lt;dbl&gt; | listening &lt;dbl&gt; | grade &lt;dbl&gt; |\n",
       "|---|---|---|---|---|---|---|---|---|---|\n",
       "| 3 | 2 | 2 | 1 | 1 | 1 | 1 | 3 | 2 | 1 |\n",
       "| 2 | 2 | 2 | 1 | 1 | 1 | 1 | 3 | 2 | 1 |\n",
       "| 2 | 1 | 2 | 1 | 1 | 1 | 1 | 2 | 2 | 1 |\n",
       "| 3 | 1 | 2 | 1 | 1 | 1 | 2 | 3 | 2 | 1 |\n",
       "| 2 | 1 | 1 | 1 | 1 | 2 | 1 | 2 | 2 | 1 |\n",
       "| 1 | 1 | 2 | 1 | 1 | 1 | 1 | 1 | 2 | 2 |\n",
       "\n"
      ],
      "text/plain": [
       "  weekly_study_hours reading_non_scientific reading_scientific\n",
       "1 3                  2                      2                 \n",
       "2 2                  2                      2                 \n",
       "3 2                  1                      2                 \n",
       "4 3                  1                      2                 \n",
       "5 2                  1                      1                 \n",
       "6 1                  1                      2                 \n",
       "  attendance_seminars attendance_classes preparation_to_midterm_1\n",
       "1 1                   1                  1                       \n",
       "2 1                   1                  1                       \n",
       "3 1                   1                  1                       \n",
       "4 1                   1                  1                       \n",
       "5 1                   1                  2                       \n",
       "6 1                   1                  1                       \n",
       "  preparation_to_midterm_2 taking_notes listening grade\n",
       "1 1                        3            2         1    \n",
       "2 1                        3            2         1    \n",
       "3 1                        2            2         1    \n",
       "4 2                        3            2         1    \n",
       "5 1                        2            2         1    \n",
       "6 1                        1            2         2    "
      ]
     },
     "metadata": {},
     "output_type": "display_data"
    }
   ],
   "source": [
    "student_data <- student_data %>%\n",
    "  rename(\n",
    "    weekly_study_hours = `17`,\n",
    "    reading_non_scientific = `18`,\n",
    "    reading_scientific = `19`,\n",
    "    attendance_seminars = `20`,\n",
    "    attendance_classes = `22`,\n",
    "    preparation_to_midterm_1 = `23`,\n",
    "    preparation_to_midterm_2 = `24`,\n",
    "    taking_notes = `25`,\n",
    "    listening = `26`,\n",
    "    grade = `GRADE`\n",
    "  )\n",
    "\n",
    "student_data %>%\n",
    "  head()"
   ]
  },
  {
   "cell_type": "markdown",
   "id": "b387f544-d7dc-4001-97f0-38c567d78376",
   "metadata": {},
   "source": [
    "The observations themselves are also numbers that need to be translated using the documentation. Thus, we convert all data set columns to factors, so that they are correctly interpreted while building the model."
   ]
  },
  {
   "cell_type": "code",
   "execution_count": 5,
   "id": "7f2328ff-052c-40b8-8dab-06f82b93b212",
   "metadata": {},
   "outputs": [],
   "source": [
    "# Converting all columns to factors\n",
    "student_data <- student_data %>%\n",
    "  mutate_if(is.numeric, as.factor)"
   ]
  },
  {
   "cell_type": "markdown",
   "id": "59e65117-558d-46dd-980d-3c14a9375c1b",
   "metadata": {},
   "source": [
    "Thus, this is our wrangled data set."
   ]
  },
  {
   "cell_type": "code",
   "execution_count": 6,
   "id": "a5e554fd-0c18-4e2f-87dd-f6a87deac0b6",
   "metadata": {},
   "outputs": [
    {
     "name": "stdout",
     "output_type": "stream",
     "text": [
      "Number of observations:  145 \n",
      "tibble [145 × 10] (S3: tbl_df/tbl/data.frame)\n",
      " $ weekly_study_hours      : Factor w/ 5 levels \"1\",\"2\",\"3\",\"4\",..: 3 2 2 3 2 1 2 1 1 2 ...\n",
      " $ reading_non_scientific  : Factor w/ 3 levels \"1\",\"2\",\"3\": 2 2 1 1 1 1 2 2 2 2 ...\n",
      " $ reading_scientific      : Factor w/ 3 levels \"1\",\"2\",\"3\": 2 2 2 2 1 2 2 2 2 2 ...\n",
      " $ attendance_seminars     : Factor w/ 2 levels \"1\",\"2\": 1 1 1 1 1 1 2 1 1 1 ...\n",
      " $ attendance_classes      : Factor w/ 2 levels \"1\",\"2\": 1 1 1 1 1 1 2 1 1 2 ...\n",
      " $ preparation_to_midterm_1: Factor w/ 3 levels \"1\",\"2\",\"3\": 1 1 1 1 2 1 1 3 1 1 ...\n",
      " $ preparation_to_midterm_2: Factor w/ 3 levels \"1\",\"2\",\"3\": 1 1 1 2 1 1 1 1 1 1 ...\n",
      " $ taking_notes            : Factor w/ 3 levels \"1\",\"2\",\"3\": 3 3 2 3 2 1 3 3 3 2 ...\n",
      " $ listening               : Factor w/ 3 levels \"1\",\"2\",\"3\": 2 2 2 2 2 2 3 2 2 2 ...\n",
      " $ grade                   : Factor w/ 8 levels \"0\",\"1\",\"2\",\"3\",..: 2 2 2 2 2 3 6 3 6 1 ...\n"
     ]
    }
   ],
   "source": [
    "cat(\"Number of observations: \", nrow(student_data), \"\\n\")\n",
    "student_data %>%\n",
    "  str()"
   ]
  },
  {
   "cell_type": "markdown",
   "id": "c67283b5-7fcc-4905-934b-6429c4964bd4",
   "metadata": {},
   "source": [
    "!!! Fit a LR model and find it's $R^2$"
   ]
  },
  {
   "cell_type": "markdown",
   "id": "837e980d-1777-4442-9e1f-b017266d67e3",
   "metadata": {},
   "source": [
    "## Methods: Plan (200 words)"
   ]
  },
  {
   "cell_type": "markdown",
   "id": "bc8f5ec0-5c30-45d9-9682-24ccc098f0ec",
   "metadata": {},
   "source": [
    "## References"
   ]
  }
 ],
 "metadata": {
  "kernelspec": {
   "display_name": "R",
   "language": "R",
   "name": "ir"
  },
  "language_info": {
   "codemirror_mode": "r",
   "file_extension": ".r",
   "mimetype": "text/x-r-source",
   "name": "R",
   "pygments_lexer": "r",
   "version": "4.1.3"
  }
 },
 "nbformat": 4,
 "nbformat_minor": 5
}
