{
 "cells": [
  {
   "cell_type": "markdown",
   "id": "59ae95cd-a23d-4388-b5de-439269241a28",
   "metadata": {},
   "source": [
    "# Which study habits are most significantly associated with student performance?"
   ]
  },
  {
   "cell_type": "markdown",
   "id": "489dd97f",
   "metadata": {},
   "source": [
    "### Group 35 - Alex Han, Ihor Parkhomenko, Jingyi Ying, Hank Zhao"
   ]
  },
  {
   "cell_type": "markdown",
   "id": "8eab3b48-3345-48ce-9d64-4c4c6d1d7eee",
   "metadata": {},
   "source": [
    "## Introduction\n",
    "\n",
    "Some students struggle with getting good grades because they need to learn how to study (Fournier and Hess). Therefore, we want to create a statistical model that explains which study habits significantly impact students' grades.\n",
    "\n",
    "We plan to analyze the student performance data collected by surveying 101 Turkish students in 2019 (Yılmaz and B. Boran Sekeroglu). We can use the obtained data to assess the population relationship between study habits and end-of-term grades because the authors ensured data randomization by asking students from diverse courses (Yılmaz and Sekeroglu).\n",
    "\n",
    "Thus, we plan to perform an inferential analysis to create a generative model describing the behavioral attributes associated with good performance."
   ]
  },
  {
   "cell_type": "markdown",
   "id": "8a994ca4-9e46-4e62-8167-281a7f9c33ae",
   "metadata": {},
   "source": [
    "## Methods and Results"
   ]
  },
  {
   "cell_type": "markdown",
   "id": "852f4950",
   "metadata": {},
   "source": [
    "### Libraries and Tooling"
   ]
  },
  {
   "cell_type": "code",
   "execution_count": 1,
   "id": "83301478",
   "metadata": {},
   "outputs": [
    {
     "name": "stderr",
     "output_type": "stream",
     "text": [
      "── \u001b[1mAttaching packages\u001b[22m ─────────────────────────────────────── tidyverse 1.3.2 ──\n",
      "\u001b[32m✔\u001b[39m \u001b[34mggplot2\u001b[39m 3.4.0      \u001b[32m✔\u001b[39m \u001b[34mpurrr  \u001b[39m 0.3.5 \n",
      "\u001b[32m✔\u001b[39m \u001b[34mtibble \u001b[39m 3.1.8      \u001b[32m✔\u001b[39m \u001b[34mdplyr  \u001b[39m 1.0.10\n",
      "\u001b[32m✔\u001b[39m \u001b[34mtidyr  \u001b[39m 1.2.1      \u001b[32m✔\u001b[39m \u001b[34mstringr\u001b[39m 1.4.1 \n",
      "\u001b[32m✔\u001b[39m \u001b[34mreadr  \u001b[39m 2.1.3      \u001b[32m✔\u001b[39m \u001b[34mforcats\u001b[39m 0.5.2 \n",
      "── \u001b[1mConflicts\u001b[22m ────────────────────────────────────────── tidyverse_conflicts() ──\n",
      "\u001b[31m✖\u001b[39m \u001b[34mdplyr\u001b[39m::\u001b[32mfilter()\u001b[39m masks \u001b[34mstats\u001b[39m::filter()\n",
      "\u001b[31m✖\u001b[39m \u001b[34mdplyr\u001b[39m::\u001b[32mlag()\u001b[39m    masks \u001b[34mstats\u001b[39m::lag()\n",
      "------------------------------------------------------------------------------\n",
      "\n",
      "You have loaded plyr after dplyr - this is likely to cause problems.\n",
      "If you need functions from both plyr and dplyr, please load plyr first, then dplyr:\n",
      "library(plyr); library(dplyr)\n",
      "\n",
      "------------------------------------------------------------------------------\n",
      "\n",
      "\n",
      "Attaching package: ‘plyr’\n",
      "\n",
      "\n",
      "The following objects are masked from ‘package:dplyr’:\n",
      "\n",
      "    arrange, count, desc, failwith, id, mutate, rename, summarise,\n",
      "    summarize\n",
      "\n",
      "\n",
      "The following object is masked from ‘package:purrr’:\n",
      "\n",
      "    compact\n",
      "\n",
      "\n"
     ]
    }
   ],
   "source": [
    "# Loading the packages and setting the seed\n",
    "# NOTE: you must load plyr first then dplyr, don't load again.\n",
    "library(tidyverse)\n",
    "library(plyr)\n",
    "library(dplyr)\n",
    "\n",
    "# Setting Up Color Scheme\n",
    "library(RColorBrewer)"
   ]
  },
  {
   "cell_type": "code",
   "execution_count": 2,
   "id": "7401def3",
   "metadata": {},
   "outputs": [],
   "source": [
    "# Setting Seed\n",
    "set.seed(1)"
   ]
  },
  {
   "cell_type": "markdown",
   "id": "4da4fde1",
   "metadata": {},
   "source": [
    "### Data Cleaning"
   ]
  },
  {
   "cell_type": "markdown",
   "id": "90d19671",
   "metadata": {},
   "source": [
    "The original dataset abstracts away descriptive details in exchange for numbers. Table 1.0 shows what the original variables and values mean and how they will be transformed for our report."
   ]
  },
  {
   "cell_type": "markdown",
   "id": "2fb26efa",
   "metadata": {},
   "source": [
    "| Original Variable Name/Number | Renamed Variable Name | Description | Possible Values | \n",
    "| --- | --- | --- | --- |\n",
    "| STUDENT ID | id | any, unique student id | |\n",
    "| 1 | age | a | |\n",
    "| 2 | sex | a | |\n",
    "| 3 | high_school_type | a | |\n",
    "| 4 | scholarship_type | a | |\n",
    "| 5 | does_work | a | |\n",
    "| 6 | does_arts_or_sports | a | |\n",
    "| 7 | has_partner | a | |\n",
    "| 8 | total_salary | a | |\n",
    "| 9 | transportation_to_university | a | |\n",
    "| 10 | accommodation | a | |\n",
    "| 11 | education_mother | a | |\n",
    "| 12 | education_father | a | |\n",
    "| 13 | num_siblings | a | |\n",
    "| 14 | parental_status | a | |\n",
    "| 15 | occupation_mother | a | |\n",
    "| 16 | occupation_father | a | |\n",
    "| 17 | study_hours | a | |\n",
    "| 18 | reading_freq_non_scientific | a | |\n",
    "| 19 | reading_freq_scientific | a | |\n",
    "| 20 | conference_attendance | a | |\n",
    "| 21 | project_impact_to_success | a | |\n",
    "| 22 | class_attendance | a | |\n",
    "| 23 | midterm_prepration_style | a | |\n",
    "| 24 | midterm_preparation_start_time | a | |\n",
    "| 25 | takes_class_notes | a | |\n",
    "| 26 | listens_class | a | |\n",
    "| 27 | enjoys_discussions | a | |\n",
    "| 28 | flip_classroom | a | |\n",
    "| 29 | cumulative_gpa | a | |\n",
    "| 30 | expected_cumulative_gpa | a | |\n",
    "| COURSE ID | course_id | a | |\n",
    "| GRADE | grade | a |  |"
   ]
  },
  {
   "cell_type": "markdown",
   "id": "3e8246ea",
   "metadata": {},
   "source": [
    "Table 1.0 - Raw Data Description"
   ]
  },
  {
   "cell_type": "markdown",
   "id": "0aeb475b",
   "metadata": {},
   "source": [
    "We first download the data directly from UCI Machine Learning Repository. We rename our columns to be more descriptive based on the attribute information section on the website."
   ]
  },
  {
   "cell_type": "code",
   "execution_count": 18,
   "id": "5da9fff9",
   "metadata": {},
   "outputs": [
    {
     "name": "stderr",
     "output_type": "stream",
     "text": [
      "\u001b[1mRows: \u001b[22m\u001b[34m145\u001b[39m \u001b[1mColumns: \u001b[22m\u001b[34m33\u001b[39m\n",
      "\u001b[36m──\u001b[39m \u001b[1mColumn specification\u001b[22m \u001b[36m────────────────────────────────────────────────────────\u001b[39m\n",
      "\u001b[1mDelimiter:\u001b[22m \";\"\n",
      "\u001b[31mchr\u001b[39m  (1): STUDENT ID\n",
      "\u001b[32mdbl\u001b[39m (32): 1, 2, 3, 4, 5, 6, 7, 8, 9, 10, 11, 12, 13, 14, 15, 16, 17, 18, 19,...\n",
      "\n",
      "\u001b[36mℹ\u001b[39m Use `spec()` to retrieve the full column specification for this data.\n",
      "\u001b[36mℹ\u001b[39m Specify the column types or set `show_col_types = FALSE` to quiet this message.\n"
     ]
    }
   ],
   "source": [
    "# Download the data from UCI Machine Learning Repository\n",
    "raw_data <- read_delim(\n",
    "  file = \"https://archive.ics.uci.edu/ml/machine-learning-databases/00623/DATA.csv\",\n",
    "  delim = \";\"\n",
    ")"
   ]
  },
  {
   "cell_type": "code",
   "execution_count": 19,
   "id": "68b3bb18",
   "metadata": {},
   "outputs": [
    {
     "data": {
      "text/html": [
       "<table class=\"dataframe\">\n",
       "<caption>A tibble: 6 × 33</caption>\n",
       "<thead>\n",
       "\t<tr><th scope=col>STUDENT ID</th><th scope=col>1</th><th scope=col>2</th><th scope=col>3</th><th scope=col>4</th><th scope=col>5</th><th scope=col>6</th><th scope=col>7</th><th scope=col>8</th><th scope=col>9</th><th scope=col>⋯</th><th scope=col>23</th><th scope=col>24</th><th scope=col>25</th><th scope=col>26</th><th scope=col>27</th><th scope=col>28</th><th scope=col>29</th><th scope=col>30</th><th scope=col>COURSE ID</th><th scope=col>GRADE</th></tr>\n",
       "\t<tr><th scope=col>&lt;chr&gt;</th><th scope=col>&lt;dbl&gt;</th><th scope=col>&lt;dbl&gt;</th><th scope=col>&lt;dbl&gt;</th><th scope=col>&lt;dbl&gt;</th><th scope=col>&lt;dbl&gt;</th><th scope=col>&lt;dbl&gt;</th><th scope=col>&lt;dbl&gt;</th><th scope=col>&lt;dbl&gt;</th><th scope=col>&lt;dbl&gt;</th><th scope=col>⋯</th><th scope=col>&lt;dbl&gt;</th><th scope=col>&lt;dbl&gt;</th><th scope=col>&lt;dbl&gt;</th><th scope=col>&lt;dbl&gt;</th><th scope=col>&lt;dbl&gt;</th><th scope=col>&lt;dbl&gt;</th><th scope=col>&lt;dbl&gt;</th><th scope=col>&lt;dbl&gt;</th><th scope=col>&lt;dbl&gt;</th><th scope=col>&lt;dbl&gt;</th></tr>\n",
       "</thead>\n",
       "<tbody>\n",
       "\t<tr><td>STUDENT1</td><td>2</td><td>2</td><td>3</td><td>3</td><td>1</td><td>2</td><td>2</td><td>1</td><td>1</td><td>⋯</td><td>1</td><td>1</td><td>3</td><td>2</td><td>1</td><td>2</td><td>1</td><td>1</td><td>1</td><td>1</td></tr>\n",
       "\t<tr><td>STUDENT2</td><td>2</td><td>2</td><td>3</td><td>3</td><td>1</td><td>2</td><td>2</td><td>1</td><td>1</td><td>⋯</td><td>1</td><td>1</td><td>3</td><td>2</td><td>3</td><td>2</td><td>2</td><td>3</td><td>1</td><td>1</td></tr>\n",
       "\t<tr><td>STUDENT3</td><td>2</td><td>2</td><td>2</td><td>3</td><td>2</td><td>2</td><td>2</td><td>2</td><td>4</td><td>⋯</td><td>1</td><td>1</td><td>2</td><td>2</td><td>1</td><td>1</td><td>2</td><td>2</td><td>1</td><td>1</td></tr>\n",
       "\t<tr><td>STUDENT4</td><td>1</td><td>1</td><td>1</td><td>3</td><td>1</td><td>2</td><td>1</td><td>2</td><td>1</td><td>⋯</td><td>1</td><td>2</td><td>3</td><td>2</td><td>2</td><td>1</td><td>3</td><td>2</td><td>1</td><td>1</td></tr>\n",
       "\t<tr><td>STUDENT5</td><td>2</td><td>2</td><td>1</td><td>3</td><td>2</td><td>2</td><td>1</td><td>3</td><td>1</td><td>⋯</td><td>2</td><td>1</td><td>2</td><td>2</td><td>2</td><td>1</td><td>2</td><td>2</td><td>1</td><td>1</td></tr>\n",
       "\t<tr><td>STUDENT6</td><td>2</td><td>2</td><td>2</td><td>3</td><td>2</td><td>2</td><td>2</td><td>2</td><td>1</td><td>⋯</td><td>1</td><td>1</td><td>1</td><td>2</td><td>1</td><td>2</td><td>4</td><td>4</td><td>1</td><td>2</td></tr>\n",
       "</tbody>\n",
       "</table>\n"
      ],
      "text/latex": [
       "A tibble: 6 × 33\n",
       "\\begin{tabular}{lllllllllllllllllllll}\n",
       " STUDENT ID & 1 & 2 & 3 & 4 & 5 & 6 & 7 & 8 & 9 & ⋯ & 23 & 24 & 25 & 26 & 27 & 28 & 29 & 30 & COURSE ID & GRADE\\\\\n",
       " <chr> & <dbl> & <dbl> & <dbl> & <dbl> & <dbl> & <dbl> & <dbl> & <dbl> & <dbl> & ⋯ & <dbl> & <dbl> & <dbl> & <dbl> & <dbl> & <dbl> & <dbl> & <dbl> & <dbl> & <dbl>\\\\\n",
       "\\hline\n",
       "\t STUDENT1 & 2 & 2 & 3 & 3 & 1 & 2 & 2 & 1 & 1 & ⋯ & 1 & 1 & 3 & 2 & 1 & 2 & 1 & 1 & 1 & 1\\\\\n",
       "\t STUDENT2 & 2 & 2 & 3 & 3 & 1 & 2 & 2 & 1 & 1 & ⋯ & 1 & 1 & 3 & 2 & 3 & 2 & 2 & 3 & 1 & 1\\\\\n",
       "\t STUDENT3 & 2 & 2 & 2 & 3 & 2 & 2 & 2 & 2 & 4 & ⋯ & 1 & 1 & 2 & 2 & 1 & 1 & 2 & 2 & 1 & 1\\\\\n",
       "\t STUDENT4 & 1 & 1 & 1 & 3 & 1 & 2 & 1 & 2 & 1 & ⋯ & 1 & 2 & 3 & 2 & 2 & 1 & 3 & 2 & 1 & 1\\\\\n",
       "\t STUDENT5 & 2 & 2 & 1 & 3 & 2 & 2 & 1 & 3 & 1 & ⋯ & 2 & 1 & 2 & 2 & 2 & 1 & 2 & 2 & 1 & 1\\\\\n",
       "\t STUDENT6 & 2 & 2 & 2 & 3 & 2 & 2 & 2 & 2 & 1 & ⋯ & 1 & 1 & 1 & 2 & 1 & 2 & 4 & 4 & 1 & 2\\\\\n",
       "\\end{tabular}\n"
      ],
      "text/markdown": [
       "\n",
       "A tibble: 6 × 33\n",
       "\n",
       "| STUDENT ID &lt;chr&gt; | 1 &lt;dbl&gt; | 2 &lt;dbl&gt; | 3 &lt;dbl&gt; | 4 &lt;dbl&gt; | 5 &lt;dbl&gt; | 6 &lt;dbl&gt; | 7 &lt;dbl&gt; | 8 &lt;dbl&gt; | 9 &lt;dbl&gt; | ⋯ ⋯ | 23 &lt;dbl&gt; | 24 &lt;dbl&gt; | 25 &lt;dbl&gt; | 26 &lt;dbl&gt; | 27 &lt;dbl&gt; | 28 &lt;dbl&gt; | 29 &lt;dbl&gt; | 30 &lt;dbl&gt; | COURSE ID &lt;dbl&gt; | GRADE &lt;dbl&gt; |\n",
       "|---|---|---|---|---|---|---|---|---|---|---|---|---|---|---|---|---|---|---|---|---|\n",
       "| STUDENT1 | 2 | 2 | 3 | 3 | 1 | 2 | 2 | 1 | 1 | ⋯ | 1 | 1 | 3 | 2 | 1 | 2 | 1 | 1 | 1 | 1 |\n",
       "| STUDENT2 | 2 | 2 | 3 | 3 | 1 | 2 | 2 | 1 | 1 | ⋯ | 1 | 1 | 3 | 2 | 3 | 2 | 2 | 3 | 1 | 1 |\n",
       "| STUDENT3 | 2 | 2 | 2 | 3 | 2 | 2 | 2 | 2 | 4 | ⋯ | 1 | 1 | 2 | 2 | 1 | 1 | 2 | 2 | 1 | 1 |\n",
       "| STUDENT4 | 1 | 1 | 1 | 3 | 1 | 2 | 1 | 2 | 1 | ⋯ | 1 | 2 | 3 | 2 | 2 | 1 | 3 | 2 | 1 | 1 |\n",
       "| STUDENT5 | 2 | 2 | 1 | 3 | 2 | 2 | 1 | 3 | 1 | ⋯ | 2 | 1 | 2 | 2 | 2 | 1 | 2 | 2 | 1 | 1 |\n",
       "| STUDENT6 | 2 | 2 | 2 | 3 | 2 | 2 | 2 | 2 | 1 | ⋯ | 1 | 1 | 1 | 2 | 1 | 2 | 4 | 4 | 1 | 2 |\n",
       "\n"
      ],
      "text/plain": [
       "  STUDENT ID 1 2 3 4 5 6 7 8 9 ⋯ 23 24 25 26 27 28 29 30 COURSE ID GRADE\n",
       "1 STUDENT1   2 2 3 3 1 2 2 1 1 ⋯ 1  1  3  2  1  2  1  1  1         1    \n",
       "2 STUDENT2   2 2 3 3 1 2 2 1 1 ⋯ 1  1  3  2  3  2  2  3  1         1    \n",
       "3 STUDENT3   2 2 2 3 2 2 2 2 4 ⋯ 1  1  2  2  1  1  2  2  1         1    \n",
       "4 STUDENT4   1 1 1 3 1 2 1 2 1 ⋯ 1  2  3  2  2  1  3  2  1         1    \n",
       "5 STUDENT5   2 2 1 3 2 2 1 3 1 ⋯ 2  1  2  2  2  1  2  2  1         1    \n",
       "6 STUDENT6   2 2 2 3 2 2 2 2 1 ⋯ 1  1  1  2  1  2  4  4  1         2    "
      ]
     },
     "metadata": {},
     "output_type": "display_data"
    }
   ],
   "source": [
    "head(raw_data)"
   ]
  },
  {
   "cell_type": "code",
   "execution_count": 20,
   "id": "d73ae7a8",
   "metadata": {},
   "outputs": [],
   "source": [
    "# Rename columns to be more descriptive\n",
    "raw_data <- raw_data %>%\n",
    "    dplyr::rename(\n",
    "        id = `STUDENT ID`,\n",
    "        age = `1`,\n",
    "        sex = `2`,\n",
    "        high_school_type = `3`,\n",
    "        scholarship_type = `4`,\n",
    "        does_work = `5`,\n",
    "        does_arts_or_sports = `6`,\n",
    "        has_partner = `7`,\n",
    "        total_salary = `8`,\n",
    "        transportation_to_university = `9`,\n",
    "        accommodation = `10`,\n",
    "        education_mother = `11`,\n",
    "        education_father = `12`,\n",
    "        num_siblings = `13`,\n",
    "        parental_status = `14`,\n",
    "        occupation_mother = `15`,\n",
    "        occupation_father = `16`,\n",
    "        study_hours= `17`,\n",
    "        reading_freq_non_scientific = `18`,\n",
    "        reading_freq_scientific = `19`,\n",
    "        conference_attendance = `20`,\n",
    "        project_impact_to_success = `21`,\n",
    "        class_attendance = `22`,\n",
    "        midterm_prepration_style = `23`,\n",
    "        midterm_preparation_start_time = `24`,\n",
    "        takes_class_notes = `25`,\n",
    "        listens_class = `26`,\n",
    "        enjoys_discussions = `27`,\n",
    "        flip_classroom = `28`,\n",
    "        cumulative_gpa = `29`,\n",
    "        expected_cumulative_gpa = `30`,\n",
    "        course_id = `COURSE ID`,\n",
    "        grade = `GRADE`,        \n",
    "    )"
   ]
  },
  {
   "cell_type": "markdown",
   "id": "7e98cf42",
   "metadata": {},
   "source": [
    "The values are in various scales holding different meanings (e.g. 1 means private for high_school_type yet means None for study_hours). Thus, we will convert them to their original meaning and also change them to factors."
   ]
  },
  {
   "cell_type": "code",
   "execution_count": null,
   "id": "a05212dc",
   "metadata": {},
   "outputs": [],
   "source": [
    "# TODO\n",
    "raw_data <- raw_data %>%\n",
    "    mutate(\n",
    "        age = factor(plyr::mapvalues(age, from=c(1,2,3), to=c(\"18-21\", \"22-25\", \"26+\"))),\n",
    "        sex = factor(plyr::mapvalues(sex, from=c(), to=c())),\n",
    "        high_school_type = factor(plyr::mapvalues(high_school_type, from=c(), to=c())),,\n",
    "        scholarship_type = factor(plyr::mapvalues(scholarship_type, from=c(), to=c())),,\n",
    "        does_work = factor(plyr::mapvalues(does_work, from=c(), to=c())),,\n",
    "        does_arts_or_sports = factor(plyr::mapvalues(does_arts_or_sports, from=c(), to=c())),,\n",
    "        has_partner = factor(plyr::mapvalues(has_partner, from=c(), to=c())),,\n",
    "        total_salary = factor(plyr::mapvalues(total_salary, from=c(), to=c())),,\n",
    "        transportation_to_university = factor(plyr::mapvalues(transportation_to_university, from=c(), to=c())),,\n",
    "        accommodation = factor(plyr::mapvalues(accommodation, from=c(), to=c())),,\n",
    "        education_mother = factor(plyr::mapvalues(education_mother, from=c(), to=c())),,\n",
    "        education_father = factor(plyr::mapvalues(education_father, from=c(), to=c())),,\n",
    "        num_siblings = factor(plyr::mapvalues(num_siblings, from=c(), to=c())),,\n",
    "        parental_status = factor(plyr::mapvalues(parental_status, from=c(), to=c())),,\n",
    "        occupation_mother = factor(plyr::mapvalues(occupation_mother, from=c(), to=c())),,\n",
    "        occupation_father = factor(plyr::mapvalues(occupation_father, from=c(), to=c())),,\n",
    "        study_hours= factor(plyr::mapvalues(study_hours, from=c(), to=c())),,\n",
    "        reading_freq_non_scientific = factor(plyr::mapvalues(, from=c(), to=c())),,\n",
    "        reading_freq_scientific = factor(plyr::mapvalues(, from=c(), to=c())),,\n",
    "        conference_attendance = factor(plyr::mapvalues(, from=c(), to=c())),,\n",
    "        project_impact_to_success = factor(plyr::mapvalues(, from=c(), to=c())),,\n",
    "        class_attendance = factor(plyr::mapvalues(, from=c(), to=c())),,\n",
    "        midterm_prepration_style = factor(plyr::mapvalues(, from=c(), to=c())),,\n",
    "        midterm_preparation_start_time = factor(plyr::mapvalues(, from=c(), to=c())),,\n",
    "        takes_class_notes = factor(plyr::mapvalues(, from=c(), to=c())),,\n",
    "        listens_class = factor(plyr::mapvalues(, from=c(), to=c())),,\n",
    "        enjoys_discussions = factor(plyr::mapvalues(, from=c(), to=c())),,\n",
    "        flip_classroom = factor(plyr::mapvalues(, from=c(), to=c())),,\n",
    "        cumulative_gpa = factor(plyr::mapvalues(, from=c(), to=c())),,\n",
    "        expected_cumulative_gpa = factor(plyr::mapvalues(, from=c(), to=c())),,\n",
    "        course_id = factor(plyr::mapvalues(, from=c(), to=c())),,\n",
    "        grade = factor(plyr::mapvalues(, from=c(), to=c())),,\n",
    "    )"
   ]
  },
  {
   "cell_type": "markdown",
   "id": "2fc0838f-f0a5-44c9-97e2-eca2b13b693e",
   "metadata": {},
   "source": [
    "We can download the data directly from the data set's website."
   ]
  },
  {
   "cell_type": "code",
   "execution_count": null,
   "id": "22398d8a-3713-46e3-b4b9-9244d3f91444",
   "metadata": {
    "vscode": {
     "languageId": "r"
    }
   },
   "outputs": [],
   "source": [
    "# Downloading the data\n",
    "raw_data <- read_delim(\n",
    "  file = \"https://archive.ics.uci.edu/ml/machine-learning-databases/00623/DATA.csv\",\n",
    "  delim = \";\"\n",
    ")\n",
    "\n",
    "raw_data %>%\n",
    "  head()"
   ]
  },
  {
   "cell_type": "markdown",
   "id": "f57588ed-56ab-4e7b-94b5-4a7b66d0f0bf",
   "metadata": {},
   "source": [
    "The data set contains 3 types of variables: \n",
    "- personal information\n",
    "- family information\n",
    "- education habits\n",
    "\n",
    "For our analysis, we need to only the last one, so we select the subset of the data below."
   ]
  },
  {
   "cell_type": "code",
   "execution_count": null,
   "id": "8ce2eeca-b4b2-42ae-8c66-eaabdcff21b1",
   "metadata": {
    "vscode": {
     "languageId": "r"
    }
   },
   "outputs": [],
   "source": [
    "# Filtering to include only study habits\n",
    "student_data <- raw_data %>%\n",
    "  select(`17`:`GRADE`) %>%\n",
    "  select(-`21`, -`27`, -`28`, -`29`, -`30`, -`COURSE ID`)\n",
    "\n",
    "student_data %>% \n",
    "  head()"
   ]
  },
  {
   "cell_type": "markdown",
   "id": "be818a77-2f39-4512-b598-3e1416481e99",
   "metadata": {},
   "source": [
    "Additionally, the original data set's column names are numbers, which correspond to various attributes. We rename them according to the data set's documentation to make our further analysis clearer."
   ]
  },
  {
   "cell_type": "code",
   "execution_count": null,
   "id": "2abe15f3-daf7-4abb-a3bd-86874fd5e0a1",
   "metadata": {
    "vscode": {
     "languageId": "r"
    }
   },
   "outputs": [],
   "source": [
    "# Renaming columns\n",
    "student_data <- student_data %>%\n",
    "  rename(\n",
    "    study_hours = `17`,\n",
    "    reading_non_scientific = `18`,\n",
    "    reading_scientific = `19`,\n",
    "    attendance_seminars = `20`,\n",
    "    attendance_classes = `22`,\n",
    "    preparation_to_midterm_1 = `23`,\n",
    "    preparation_to_midterm_2 = `24`,\n",
    "    taking_notes = `25`,\n",
    "    listening = `26`,\n",
    "    grade = `GRADE`\n",
    "  )\n",
    "\n",
    "student_data %>%\n",
    "  head()"
   ]
  },
  {
   "cell_type": "markdown",
   "id": "b387f544-d7dc-4001-97f0-38c567d78376",
   "metadata": {},
   "source": [
    "The observations themselves are also numbers that need to be translated using the documentation. Thus, we convert all study habits records to factors so that they are correctly interpreted while building the model."
   ]
  },
  {
   "cell_type": "code",
   "execution_count": null,
   "id": "7f2328ff-052c-40b8-8dab-06f82b93b212",
   "metadata": {
    "vscode": {
     "languageId": "r"
    }
   },
   "outputs": [],
   "source": [
    "# Converting study habits columns to factors\n",
    "student_data <- student_data %>%\n",
    "  mutate_if(is.numeric, as.factor) %>%\n",
    "  mutate(grade = as.numeric(grade) - 1)"
   ]
  },
  {
   "cell_type": "markdown",
   "id": "59e65117-558d-46dd-980d-3c14a9375c1b",
   "metadata": {},
   "source": [
    "Thus, this is our wrangled data set."
   ]
  },
  {
   "cell_type": "code",
   "execution_count": null,
   "id": "a5e554fd-0c18-4e2f-87dd-f6a87deac0b6",
   "metadata": {
    "vscode": {
     "languageId": "r"
    }
   },
   "outputs": [],
   "source": [
    "cat(\"Number of observations: \", nrow(student_data), \"\\n\")\n",
    "\n",
    "student_data %>%\n",
    "  str()\n",
    "\n",
    "# Num. of students per final grade\n",
    "student_data %>%\n",
    "  group_by(grade) %>%\n",
    "  summarise(n = n())"
   ]
  },
  {
   "cell_type": "markdown",
   "id": "4182ea0a-aaad-4ffc-a75a-d0828202dbcb",
   "metadata": {},
   "source": [
    "Scholars argue that spending time studying does not necessarily lead to better performance (Fournier and Hess). We can check whether our data reflects this."
   ]
  },
  {
   "cell_type": "code",
   "execution_count": null,
   "id": "6868abfd-4e00-473e-84e1-46f6277025c4",
   "metadata": {
    "tags": [],
    "vscode": {
     "languageId": "r"
    }
   },
   "outputs": [],
   "source": [
    "options(repr.plot.width = 10, repr.plot.height = 5)\n",
    "\n",
    "# Plotting the association between studying hours and grades\n",
    "study_hours_plot <- student_data %>%\n",
    "  ggplot(aes(x = study_hours, y = grade)) +\n",
    "  geom_boxplot() +\n",
    "  labs(\n",
    "    title = \"Student final grades per study hours per week\",\n",
    "    x = \"Study hours per week\",\n",
    "    y = \"Final grade\"\n",
    "  ) +\n",
    "  theme(text = element_text(size = 13))\n",
    "\n",
    "study_hours_plot"
   ]
  },
  {
   "cell_type": "markdown",
   "id": "a8a5fe1e-8a05-4bc7-98a7-73d24f6f3f3d",
   "metadata": {},
   "source": [
    "The plot shows that study hours may not lead to good grades, so it corresponds to the scholarly claim (Fournier and Hess). However, it's necessary to create a model with the `study_hours` as a single predictor and then conduct the regression analysis to conclude whether there's an association."
   ]
  },
  {
   "cell_type": "markdown",
   "id": "d41ba79d",
   "metadata": {},
   "source": [
    "### Exploratory Data Analysis"
   ]
  },
  {
   "cell_type": "markdown",
   "id": "bbb2bdf0",
   "metadata": {},
   "source": [
    "#### Exploring Grade Distribution by Courses"
   ]
  },
  {
   "cell_type": "code",
   "execution_count": null,
   "id": "0c649a3e",
   "metadata": {},
   "outputs": [],
   "source": []
  },
  {
   "cell_type": "markdown",
   "id": "646ac7e3",
   "metadata": {},
   "source": [
    "#### Exploring Trends in Background Characteristics "
   ]
  },
  {
   "cell_type": "code",
   "execution_count": null,
   "id": "b4515c09",
   "metadata": {},
   "outputs": [],
   "source": []
  },
  {
   "cell_type": "markdown",
   "id": "a6cd8571",
   "metadata": {},
   "source": [
    "#### Summary Statistics for Quantitative Variables"
   ]
  },
  {
   "cell_type": "code",
   "execution_count": null,
   "id": "d48910b3",
   "metadata": {
    "vscode": {
     "languageId": "python"
    }
   },
   "outputs": [],
   "source": [
    "student_data"
   ]
  },
  {
   "cell_type": "markdown",
   "id": "0542171e",
   "metadata": {},
   "source": [
    "#### Correlation Matrix"
   ]
  },
  {
   "cell_type": "code",
   "execution_count": null,
   "id": "42b96af8",
   "metadata": {
    "vscode": {
     "languageId": "python"
    }
   },
   "outputs": [],
   "source": []
  },
  {
   "cell_type": "markdown",
   "id": "4bb6397d",
   "metadata": {},
   "source": [
    "#### Dimensionality Reduction"
   ]
  },
  {
   "cell_type": "code",
   "execution_count": null,
   "id": "2670f061",
   "metadata": {
    "vscode": {
     "languageId": "python"
    }
   },
   "outputs": [],
   "source": []
  },
  {
   "cell_type": "markdown",
   "id": "52d2ee4d",
   "metadata": {},
   "source": [
    "### Model Fitting"
   ]
  },
  {
   "cell_type": "markdown",
   "id": "a84a2ee9",
   "metadata": {},
   "source": [
    "#### Creating Training, Validating, Testing Set"
   ]
  },
  {
   "cell_type": "markdown",
   "id": "7c586940",
   "metadata": {},
   "source": [
    "#### Mallows' Cp v P"
   ]
  },
  {
   "cell_type": "markdown",
   "id": "7e0826a2",
   "metadata": {},
   "source": [
    "#### Max Model"
   ]
  },
  {
   "cell_type": "markdown",
   "id": "aaa52116",
   "metadata": {},
   "source": [
    "#### Simple Model\n"
   ]
  },
  {
   "cell_type": "markdown",
   "id": "d5281b0e",
   "metadata": {},
   "source": []
  },
  {
   "cell_type": "markdown",
   "id": "837e980d-1777-4442-9e1f-b017266d67e3",
   "metadata": {},
   "source": [
    "## Discussion"
   ]
  },
  {
   "cell_type": "markdown",
   "id": "83909e6b-e506-41ea-ba69-8c4ba4a3ad83",
   "metadata": {},
   "source": [
    "#### Our analysis is trustworthy because:\n",
    "\n",
    "- It is based on the relatively new data set\n",
    "  \n",
    "- The data was collected following the guidelines ensuring the randomization\n",
    "  \n",
    "- It uses inferential techniques allowing to test the response variables' significance of and create a powerful generative model\n",
    "  \n",
    "\n",
    "#### Methods we plan to use:\n",
    "\n",
    "We want to do variable selection for our generative model by:\n",
    "\n",
    "1. Splitting the data into training and testing datasets\n",
    "  \n",
    "2. Create a model that uses all input variables and estimate its MLR\n",
    "  \n",
    "3. Select a subset of statistically significant variables using forward selection\n",
    "  \n",
    "4. Create another model that uses only the statistically significant variables from above\n",
    "  \n",
    "5. Compare the models using the adjusted $R^2$\n",
    "  \n",
    "\n",
    "#### Expectations:\n",
    "\n",
    "We want to find the study habits that are statistically associated with final grades. Fournier and Hess claim that note taking is crucial (Fournier and Hess), and Wolfe and College argue that listening in classes significantly impact school performance as well (Wolfe and College). Therefore, we expect our generative model to contain `taking_notes` and `listening` variables.\n",
    "\n",
    "#### Project impact:\n",
    "\n",
    "This analysis will help students to spot education habits that significantly impact school performance. Our hope is that students will become aware of those and use them while planning their future studies."
   ]
  },
  {
   "cell_type": "markdown",
   "id": "bc8f5ec0-5c30-45d9-9682-24ccc098f0ec",
   "metadata": {},
   "source": [
    "## References\n",
    "\n",
    "Fournier, Caitlin, and Kayla Hess. “Cracking the Code on How to Study.” *The Phi Delta Kappan*, vol. 94, no. 4, 2012, pp. 72–73, www.jstor.org/stable/41763743. Accessed 3 Nov. 2022.\n",
    "\n",
    "Wolfe, Alison M, and Elmira College. *Student Attitudes toward Study Skills*. 2009. https://alisonwolfe.com/wordpress/wp-content/uploads/Student_Attitudes_Study_Skills1.pdf.\n",
    "\n",
    "Yılmaz, Nevriye, and Boran Boran Sekeroglu. “UCI Machine Learning Repository: Higher Education Students Performance Evaluation Dataset Data Set.” *Archive.ics.uci.edu*, 30 Jan. 2021, https://archive.ics.uci.edu/ml/datasets/Higher+Education+Students+Performance+Evaluation+Dataset. Accessed 3 Nov. 2022.\n",
    "\n",
    "Yılmaz, Nevriye, and Boran Sekeroglu. “Student Performance Classification Using Artificial Intelligence Techniques.” *Advances in Intelligent Systems and Computing*, vol. 1095, 20 Nov. 2019, pp. 596–603, 10.1007/978-3-030-35249-3_76. Accessed 3 Nov. 2022."
   ]
  },
  {
   "cell_type": "markdown",
   "id": "cdc907d1-750d-4512-83be-e2e6ba7c0720",
   "metadata": {},
   "source": [
    "**Word count:** 490"
   ]
  }
 ],
 "metadata": {
  "kernelspec": {
   "display_name": "R",
   "language": "R",
   "name": "ir"
  },
  "language_info": {
   "codemirror_mode": "r",
   "file_extension": ".r",
   "mimetype": "text/x-r-source",
   "name": "R",
   "pygments_lexer": "r",
   "version": "4.2.1"
  }
 },
 "nbformat": 4,
 "nbformat_minor": 5
}
