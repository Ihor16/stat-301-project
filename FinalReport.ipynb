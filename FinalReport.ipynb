{
 "cells": [
  {
   "cell_type": "markdown",
   "id": "6b6f50d8-c5f6-4494-a854-603ed4d06ecc",
   "metadata": {},
   "source": [
    "# Which phone features most significantly influence its price?"
   ]
  },
  {
   "cell_type": "markdown",
   "id": "6f9a35a6-3078-47a7-823b-d836b2b97a8e",
   "metadata": {},
   "source": [
    "## Introduction (300)\n",
    "\n",
    "People use phones daily, and scholars argue that these devices evolved from luxurious items into necessities over the past years (Tanveer et al.). We use them for \"calling and sending messages, capturing pictures, accessing the internet, playing games, socializing, and downloading applications.\" They turned from mere communication tools into daily \"multimedia machines\" (Tanveer et al.).\n",
    "\n",
    "However, buying new phones can be challenging and frustrating due to the flood of features they offer (Kobie). To escape this problematic choice, consumers usually consider the advertised characteristics of the device exclusively without inquiring into whether its price corresponds to them (K. Srujan Raju et al. 773). Hence, they are likely to make an uninformed decision and overpay.\n",
    "\n",
    "Therefore, it is essential to create a predictive model allowing people to input the phone's feature set and evaluate whether the phone's proposed price aligns with the competition and is worth paying.\n",
    "\n",
    "Thus, we intend to create a **model that would predict a phone's market price given the device's set of characteristics**. To make such a model, in our study, we find the **phone's features that most effectively predict its price**. We intentionally plan to choose the best predictors for our model considering the following reasons:\n",
    "\n",
    "- We want our model to contain only relevant variables so that there are no hidden relationships between the predictors\n",
    "- We want to avoid overfitting but instead make our model perform well both on training and testing sets\n",
    "- We want to create a small model that would be easy to use for the general public\n",
    "\n",
    "Then, we create multiple linear regressions **(!!! which ones)** using these variables and choose the best model for the given data.\n",
    "\n",
    "Thus, we want our model to help consumers quickly yet critically evaluate a phone's price tag and make a rational purchasing decision without being misled by advertising."
   ]
  },
  {
   "cell_type": "markdown",
   "id": "f31bd26a-d077-47b5-a063-b6dda0d192d0",
   "metadata": {},
   "source": [
    "## Data set and Variables (200)\n",
    "\n",
    "We use a data set containing specifications and prices for **1321** unique phone models for our analysis. The researchers collected the observations via scraping [gadgets360](https://www.gadgets360.com/mobiles/best-phones) - a tech news website listing and describing smartphones' features and prices - so the data for our study is reliable. Additionally, the scholars scraped and wrangled the data in **August 2020**, so the phone models their data set describes are reasonably recent.\n",
    "Thus, we can create an effective regression model with this data because it is trustworthy and up-to-date.\n",
    "\n",
    "Here's the list of variables we will consider in our analysis. We renamed them from the original data set and derived one from another two variables to ease the investigation.\n",
    "\n",
    "Only some of these, however, will end up in the final predictive model described above."
   ]
  },
  {
   "cell_type": "markdown",
   "id": "d8507ebf-bdef-4828-9e9a-578fc15b77e9",
   "metadata": {},
   "source": [
    "| Variable Name      | Description                                         |\n",
    "| ------------------ | --------------------------------------------------- |\n",
    "| `battery_capacity` | Battery capacity in mAh                             |\n",
    "| `screen_size`      | Screen Size in Inches across opposite corners       |\n",
    "| `touchscreen`      | Whether the phone is touchscreen supported or not   |\n",
    "| `resolution`       | The resolution of the phone: width height           |\n",
    "| `processor`        | Number of processor cores                           |\n",
    "| `ram`              | RAM available in phone in MB                        |\n",
    "| `internal_storage` | Internal Storage of phone in GB                     |\n",
    "| `rear_camera`      | Resolution of rear camera in MP (0 if unavailable)  |\n",
    "| `front_camera`     | Resolution of front camera in MP (0 if unavailable) |\n",
    "| `operating_system` | OS used in phone                                    |\n",
    "| `gps`              | Whether phone has GPS functionality                 |\n",
    "| `num_of_sims`      | Number of SIM card slots in phone                   |\n",
    "| `x3g`              | Whether phone has 3G network functionality          |\n",
    "| `x4g_lte`          | Whether phone has 4G/LTE network functionality      |\n"
   ]
  },
  {
   "cell_type": "markdown",
   "id": "07531616-c348-4150-8cd1-d207a51ba5ac",
   "metadata": {},
   "source": [
    "Here's our code for our minor wrangling where we:\n",
    "- rename the variables\n",
    "- create a derived variable for `resolution`\n",
    "- convert the `price` from **Indian Rupee** to **US Dollar**\n",
    "- preview the data set\n",
    "\n",
    "We convert the price to USD to make the data preview and analysis more comprehensible."
   ]
  },
  {
   "cell_type": "code",
   "execution_count": 23,
   "id": "6930d33e-0212-4703-847b-29d8887bce50",
   "metadata": {},
   "outputs": [],
   "source": [
    "# Installing missing packages\n",
    "# https://stackoverflow.com/a/4090208/18184038\n",
    "package_list <- \"psych\"\n",
    "to_install <- package_list[!(package_list %in% installed.packages()[, \"Package\"])]\n",
    "if (length(to_install)) install.packages(to_install)"
   ]
  },
  {
   "cell_type": "code",
   "execution_count": 35,
   "id": "b4d5fe1f-85f4-4601-ac32-6e8beab41c8d",
   "metadata": {},
   "outputs": [
    {
     "data": {
      "text/html": [
       "<table class=\"dataframe\">\n",
       "<caption>A tibble: 3 × 22</caption>\n",
       "<thead>\n",
       "\t<tr><th scope=col>X</th><th scope=col>Name</th><th scope=col>Brand</th><th scope=col>Model</th><th scope=col>Battery.capacity..mAh.</th><th scope=col>Screen.size..inches.</th><th scope=col>Touchscreen</th><th scope=col>Resolution.x</th><th scope=col>Resolution.y</th><th scope=col>Processor</th><th scope=col>⋯</th><th scope=col>Rear.camera</th><th scope=col>Front.camera</th><th scope=col>Operating.system</th><th scope=col>Wi.Fi</th><th scope=col>Bluetooth</th><th scope=col>GPS</th><th scope=col>Number.of.SIMs</th><th scope=col>X3G</th><th scope=col>X4G..LTE</th><th scope=col>Price</th></tr>\n",
       "\t<tr><th scope=col>&lt;int&gt;</th><th scope=col>&lt;chr&gt;</th><th scope=col>&lt;chr&gt;</th><th scope=col>&lt;chr&gt;</th><th scope=col>&lt;int&gt;</th><th scope=col>&lt;dbl&gt;</th><th scope=col>&lt;chr&gt;</th><th scope=col>&lt;int&gt;</th><th scope=col>&lt;int&gt;</th><th scope=col>&lt;int&gt;</th><th scope=col>⋯</th><th scope=col>&lt;dbl&gt;</th><th scope=col>&lt;dbl&gt;</th><th scope=col>&lt;chr&gt;</th><th scope=col>&lt;chr&gt;</th><th scope=col>&lt;chr&gt;</th><th scope=col>&lt;chr&gt;</th><th scope=col>&lt;int&gt;</th><th scope=col>&lt;chr&gt;</th><th scope=col>&lt;chr&gt;</th><th scope=col>&lt;int&gt;</th></tr>\n",
       "</thead>\n",
       "<tbody>\n",
       "\t<tr><td>0</td><td>OnePlus 7T Pro McLaren Edition</td><td>OnePlus</td><td>7T Pro McLaren Edition</td><td>4085</td><td>6.67</td><td>Yes</td><td>1440</td><td>3120</td><td>8</td><td>⋯</td><td>48</td><td>16</td><td>Android</td><td>Yes</td><td>Yes</td><td>Yes</td><td>2</td><td>Yes</td><td>Yes</td><td> 58998</td></tr>\n",
       "\t<tr><td>1</td><td>Realme X2 Pro                 </td><td>Realme </td><td>X2 Pro                </td><td>4000</td><td>6.50</td><td>Yes</td><td>1080</td><td>2400</td><td>8</td><td>⋯</td><td>64</td><td>16</td><td>Android</td><td>Yes</td><td>Yes</td><td>Yes</td><td>2</td><td>Yes</td><td>Yes</td><td> 27999</td></tr>\n",
       "\t<tr><td>2</td><td>iPhone 11 Pro Max             </td><td>Apple  </td><td>iPhone 11 Pro Max     </td><td>3969</td><td>6.50</td><td>Yes</td><td>1242</td><td>2688</td><td>6</td><td>⋯</td><td>12</td><td>12</td><td>iOS    </td><td>Yes</td><td>Yes</td><td>Yes</td><td>2</td><td>Yes</td><td>Yes</td><td>106900</td></tr>\n",
       "</tbody>\n",
       "</table>\n"
      ],
      "text/latex": [
       "A tibble: 3 × 22\n",
       "\\begin{tabular}{lllllllllllllllllllll}\n",
       " X & Name & Brand & Model & Battery.capacity..mAh. & Screen.size..inches. & Touchscreen & Resolution.x & Resolution.y & Processor & ⋯ & Rear.camera & Front.camera & Operating.system & Wi.Fi & Bluetooth & GPS & Number.of.SIMs & X3G & X4G..LTE & Price\\\\\n",
       " <int> & <chr> & <chr> & <chr> & <int> & <dbl> & <chr> & <int> & <int> & <int> & ⋯ & <dbl> & <dbl> & <chr> & <chr> & <chr> & <chr> & <int> & <chr> & <chr> & <int>\\\\\n",
       "\\hline\n",
       "\t 0 & OnePlus 7T Pro McLaren Edition & OnePlus & 7T Pro McLaren Edition & 4085 & 6.67 & Yes & 1440 & 3120 & 8 & ⋯ & 48 & 16 & Android & Yes & Yes & Yes & 2 & Yes & Yes &  58998\\\\\n",
       "\t 1 & Realme X2 Pro                  & Realme  & X2 Pro                 & 4000 & 6.50 & Yes & 1080 & 2400 & 8 & ⋯ & 64 & 16 & Android & Yes & Yes & Yes & 2 & Yes & Yes &  27999\\\\\n",
       "\t 2 & iPhone 11 Pro Max              & Apple   & iPhone 11 Pro Max      & 3969 & 6.50 & Yes & 1242 & 2688 & 6 & ⋯ & 12 & 12 & iOS     & Yes & Yes & Yes & 2 & Yes & Yes & 106900\\\\\n",
       "\\end{tabular}\n"
      ],
      "text/markdown": [
       "\n",
       "A tibble: 3 × 22\n",
       "\n",
       "| X &lt;int&gt; | Name &lt;chr&gt; | Brand &lt;chr&gt; | Model &lt;chr&gt; | Battery.capacity..mAh. &lt;int&gt; | Screen.size..inches. &lt;dbl&gt; | Touchscreen &lt;chr&gt; | Resolution.x &lt;int&gt; | Resolution.y &lt;int&gt; | Processor &lt;int&gt; | ⋯ ⋯ | Rear.camera &lt;dbl&gt; | Front.camera &lt;dbl&gt; | Operating.system &lt;chr&gt; | Wi.Fi &lt;chr&gt; | Bluetooth &lt;chr&gt; | GPS &lt;chr&gt; | Number.of.SIMs &lt;int&gt; | X3G &lt;chr&gt; | X4G..LTE &lt;chr&gt; | Price &lt;int&gt; |\n",
       "|---|---|---|---|---|---|---|---|---|---|---|---|---|---|---|---|---|---|---|---|---|\n",
       "| 0 | OnePlus 7T Pro McLaren Edition | OnePlus | 7T Pro McLaren Edition | 4085 | 6.67 | Yes | 1440 | 3120 | 8 | ⋯ | 48 | 16 | Android | Yes | Yes | Yes | 2 | Yes | Yes |  58998 |\n",
       "| 1 | Realme X2 Pro                  | Realme  | X2 Pro                 | 4000 | 6.50 | Yes | 1080 | 2400 | 8 | ⋯ | 64 | 16 | Android | Yes | Yes | Yes | 2 | Yes | Yes |  27999 |\n",
       "| 2 | iPhone 11 Pro Max              | Apple   | iPhone 11 Pro Max      | 3969 | 6.50 | Yes | 1242 | 2688 | 6 | ⋯ | 12 | 12 | iOS     | Yes | Yes | Yes | 2 | Yes | Yes | 106900 |\n",
       "\n"
      ],
      "text/plain": [
       "  X Name                           Brand   Model                 \n",
       "1 0 OnePlus 7T Pro McLaren Edition OnePlus 7T Pro McLaren Edition\n",
       "2 1 Realme X2 Pro                  Realme  X2 Pro                \n",
       "3 2 iPhone 11 Pro Max              Apple   iPhone 11 Pro Max     \n",
       "  Battery.capacity..mAh. Screen.size..inches. Touchscreen Resolution.x\n",
       "1 4085                   6.67                 Yes         1440        \n",
       "2 4000                   6.50                 Yes         1080        \n",
       "3 3969                   6.50                 Yes         1242        \n",
       "  Resolution.y Processor ⋯ Rear.camera Front.camera Operating.system Wi.Fi\n",
       "1 3120         8         ⋯ 48          16           Android          Yes  \n",
       "2 2400         8         ⋯ 64          16           Android          Yes  \n",
       "3 2688         6         ⋯ 12          12           iOS              Yes  \n",
       "  Bluetooth GPS Number.of.SIMs X3G X4G..LTE Price \n",
       "1 Yes       Yes 2              Yes Yes       58998\n",
       "2 Yes       Yes 2              Yes Yes       27999\n",
       "3 Yes       Yes 2              Yes Yes      106900"
      ]
     },
     "metadata": {},
     "output_type": "display_data"
    }
   ],
   "source": [
    "library(tidyverse)\n",
    "library(psych)\n",
    "\n",
    "set.seed(1)\n",
    "\n",
    "# Reading the data set from the web\n",
    "url <- \"https://raw.githubusercontent.com/Ihor16/stat-301-project/ih/rewrite_for_new_dataset/data/specs.csv\"\n",
    "data_raw <- read.csv(url) %>%\n",
    "  as_tibble()\n",
    "\n",
    "# Previewing the raw data set\n",
    "data_raw %>%\n",
    "  head(3)"
   ]
  },
  {
   "cell_type": "code",
   "execution_count": 36,
   "id": "ce7489f3-308c-4e17-b22f-12c9e1edf6f3",
   "metadata": {},
   "outputs": [
    {
     "data": {
      "text/html": [
       "<table class=\"dataframe\">\n",
       "<caption>A tibble: 6 × 15</caption>\n",
       "<thead>\n",
       "\t<tr><th scope=col>price</th><th scope=col>battery_capacity</th><th scope=col>screen_size</th><th scope=col>touchscreen</th><th scope=col>resolution</th><th scope=col>processor</th><th scope=col>ram</th><th scope=col>internal_storage</th><th scope=col>rear_camera</th><th scope=col>front_camera</th><th scope=col>operating_system</th><th scope=col>gps</th><th scope=col>num_of_sims</th><th scope=col>x3g</th><th scope=col>x4g_lte</th></tr>\n",
       "\t<tr><th scope=col>&lt;dbl&gt;</th><th scope=col>&lt;int&gt;</th><th scope=col>&lt;dbl&gt;</th><th scope=col>&lt;fct&gt;</th><th scope=col>&lt;int&gt;</th><th scope=col>&lt;int&gt;</th><th scope=col>&lt;int&gt;</th><th scope=col>&lt;dbl&gt;</th><th scope=col>&lt;dbl&gt;</th><th scope=col>&lt;dbl&gt;</th><th scope=col>&lt;fct&gt;</th><th scope=col>&lt;fct&gt;</th><th scope=col>&lt;int&gt;</th><th scope=col>&lt;fct&gt;</th><th scope=col>&lt;fct&gt;</th></tr>\n",
       "</thead>\n",
       "<tbody>\n",
       "\t<tr><td> 724.6134</td><td>4085</td><td>6.67</td><td>Yes</td><td>4492800</td><td>8</td><td>12000</td><td>256</td><td>48</td><td>16</td><td>Android</td><td>Yes</td><td>2</td><td>Yes</td><td>Yes</td></tr>\n",
       "\t<tr><td> 343.8837</td><td>4000</td><td>6.50</td><td>Yes</td><td>2592000</td><td>8</td><td> 6000</td><td> 64</td><td>64</td><td>16</td><td>Android</td><td>Yes</td><td>2</td><td>Yes</td><td>Yes</td></tr>\n",
       "\t<tr><td>1312.9458</td><td>3969</td><td>6.50</td><td>Yes</td><td>3338496</td><td>6</td><td> 4000</td><td> 64</td><td>12</td><td>12</td><td>iOS    </td><td>Yes</td><td>2</td><td>Yes</td><td>Yes</td></tr>\n",
       "\t<tr><td> 772.5378</td><td>3110</td><td>6.10</td><td>Yes</td><td>1483776</td><td>6</td><td> 4000</td><td> 64</td><td>12</td><td>12</td><td>iOS    </td><td>Yes</td><td>2</td><td>Yes</td><td>Yes</td></tr>\n",
       "\t<tr><td> 613.9772</td><td>4000</td><td>6.40</td><td>Yes</td><td>2527200</td><td>8</td><td> 6000</td><td>128</td><td>12</td><td>32</td><td>Android</td><td>Yes</td><td>1</td><td>No </td><td>No </td></tr>\n",
       "\t<tr><td> 429.0103</td><td>3800</td><td>6.55</td><td>Yes</td><td>2592000</td><td>8</td><td> 8000</td><td>128</td><td>48</td><td>16</td><td>Android</td><td>No </td><td>2</td><td>Yes</td><td>Yes</td></tr>\n",
       "</tbody>\n",
       "</table>\n"
      ],
      "text/latex": [
       "A tibble: 6 × 15\n",
       "\\begin{tabular}{lllllllllllllll}\n",
       " price & battery\\_capacity & screen\\_size & touchscreen & resolution & processor & ram & internal\\_storage & rear\\_camera & front\\_camera & operating\\_system & gps & num\\_of\\_sims & x3g & x4g\\_lte\\\\\n",
       " <dbl> & <int> & <dbl> & <fct> & <int> & <int> & <int> & <dbl> & <dbl> & <dbl> & <fct> & <fct> & <int> & <fct> & <fct>\\\\\n",
       "\\hline\n",
       "\t  724.6134 & 4085 & 6.67 & Yes & 4492800 & 8 & 12000 & 256 & 48 & 16 & Android & Yes & 2 & Yes & Yes\\\\\n",
       "\t  343.8837 & 4000 & 6.50 & Yes & 2592000 & 8 &  6000 &  64 & 64 & 16 & Android & Yes & 2 & Yes & Yes\\\\\n",
       "\t 1312.9458 & 3969 & 6.50 & Yes & 3338496 & 6 &  4000 &  64 & 12 & 12 & iOS     & Yes & 2 & Yes & Yes\\\\\n",
       "\t  772.5378 & 3110 & 6.10 & Yes & 1483776 & 6 &  4000 &  64 & 12 & 12 & iOS     & Yes & 2 & Yes & Yes\\\\\n",
       "\t  613.9772 & 4000 & 6.40 & Yes & 2527200 & 8 &  6000 & 128 & 12 & 32 & Android & Yes & 1 & No  & No \\\\\n",
       "\t  429.0103 & 3800 & 6.55 & Yes & 2592000 & 8 &  8000 & 128 & 48 & 16 & Android & No  & 2 & Yes & Yes\\\\\n",
       "\\end{tabular}\n"
      ],
      "text/markdown": [
       "\n",
       "A tibble: 6 × 15\n",
       "\n",
       "| price &lt;dbl&gt; | battery_capacity &lt;int&gt; | screen_size &lt;dbl&gt; | touchscreen &lt;fct&gt; | resolution &lt;int&gt; | processor &lt;int&gt; | ram &lt;int&gt; | internal_storage &lt;dbl&gt; | rear_camera &lt;dbl&gt; | front_camera &lt;dbl&gt; | operating_system &lt;fct&gt; | gps &lt;fct&gt; | num_of_sims &lt;int&gt; | x3g &lt;fct&gt; | x4g_lte &lt;fct&gt; |\n",
       "|---|---|---|---|---|---|---|---|---|---|---|---|---|---|---|\n",
       "|  724.6134 | 4085 | 6.67 | Yes | 4492800 | 8 | 12000 | 256 | 48 | 16 | Android | Yes | 2 | Yes | Yes |\n",
       "|  343.8837 | 4000 | 6.50 | Yes | 2592000 | 8 |  6000 |  64 | 64 | 16 | Android | Yes | 2 | Yes | Yes |\n",
       "| 1312.9458 | 3969 | 6.50 | Yes | 3338496 | 6 |  4000 |  64 | 12 | 12 | iOS     | Yes | 2 | Yes | Yes |\n",
       "|  772.5378 | 3110 | 6.10 | Yes | 1483776 | 6 |  4000 |  64 | 12 | 12 | iOS     | Yes | 2 | Yes | Yes |\n",
       "|  613.9772 | 4000 | 6.40 | Yes | 2527200 | 8 |  6000 | 128 | 12 | 32 | Android | Yes | 1 | No  | No  |\n",
       "|  429.0103 | 3800 | 6.55 | Yes | 2592000 | 8 |  8000 | 128 | 48 | 16 | Android | No  | 2 | Yes | Yes |\n",
       "\n"
      ],
      "text/plain": [
       "  price     battery_capacity screen_size touchscreen resolution processor ram  \n",
       "1  724.6134 4085             6.67        Yes         4492800    8         12000\n",
       "2  343.8837 4000             6.50        Yes         2592000    8          6000\n",
       "3 1312.9458 3969             6.50        Yes         3338496    6          4000\n",
       "4  772.5378 3110             6.10        Yes         1483776    6          4000\n",
       "5  613.9772 4000             6.40        Yes         2527200    8          6000\n",
       "6  429.0103 3800             6.55        Yes         2592000    8          8000\n",
       "  internal_storage rear_camera front_camera operating_system gps num_of_sims\n",
       "1 256              48          16           Android          Yes 2          \n",
       "2  64              64          16           Android          Yes 2          \n",
       "3  64              12          12           iOS              Yes 2          \n",
       "4  64              12          12           iOS              Yes 2          \n",
       "5 128              12          32           Android          Yes 1          \n",
       "6 128              48          16           Android          No  2          \n",
       "  x3g x4g_lte\n",
       "1 Yes Yes    \n",
       "2 Yes Yes    \n",
       "3 Yes Yes    \n",
       "4 Yes Yes    \n",
       "5 No  No     \n",
       "6 Yes Yes    "
      ]
     },
     "metadata": {},
     "output_type": "display_data"
    }
   ],
   "source": [
    "# Conversion rate from INR to USD\n",
    "# https://www.forbes.com/advisor/money-transfer/currency-converter/inr-usd/\n",
    "rate <- 0.012282\n",
    "\n",
    "# Renaming the variables and creating a derived variable for `resolution`\n",
    "phone_data <- data_raw %>%\n",
    "  select(-c(X, Name, Brand, Model, \"Wi.Fi\", Bluetooth)) %>%\n",
    "  rename(\n",
    "    battery_capacity = \"Battery.capacity..mAh.\",\n",
    "    screen_size = \"Screen.size..inches.\",\n",
    "    touchscreen = \"Touchscreen\",\n",
    "    resolution_x = \"Resolution.x\",\n",
    "    resolution_y = \"Resolution.y\",\n",
    "    processor = \"Processor\",\n",
    "    ram = \"RAM..MB.\",\n",
    "    internal_storage = \"Internal.storage..GB.\",\n",
    "    rear_camera = \"Rear.camera\",\n",
    "    front_camera = \"Front.camera\",\n",
    "    operating_system = \"Operating.system\",\n",
    "    gps = \"GPS\",\n",
    "    num_of_sims = \"Number.of.SIMs\",\n",
    "    x3g = \"X3G\",\n",
    "    x4g_lte = \"X4G..LTE\",\n",
    "    price = \"Price\"\n",
    "  ) %>%\n",
    "  mutate(\n",
    "    price = price * rate,\n",
    "    resolution = resolution_x * resolution_y\n",
    "  ) %>%\n",
    "  relocate(resolution, .before = resolution_x) %>%\n",
    "  select(-c(resolution_x, resolution_y)) %>%\n",
    "  drop_na() %>%\n",
    "  select(c(price, everything()))\n",
    "\n",
    "# Changing categorical variables to factors\n",
    "phone_data <- phone_data %>%\n",
    "  mutate(\n",
    "    touchscreen = as_factor(touchscreen),\n",
    "    operating_system = as_factor(operating_system),\n",
    "    gps = as_factor(gps),\n",
    "    x3g = as_factor(x3g),\n",
    "    x4g_lte = as_factor(x4g_lte)\n",
    "  )\n",
    "\n",
    "# Previewing the wrangled data set\n",
    "phone_data %>%\n",
    "  head()"
   ]
  },
  {
   "cell_type": "code",
   "execution_count": 37,
   "id": "e4d08568-57de-4d66-8f51-28cf58e6bc67",
   "metadata": {},
   "outputs": [
    {
     "data": {
      "text/html": [
       "<table class=\"dataframe\">\n",
       "<caption>A psych: 15 × 5</caption>\n",
       "<thead>\n",
       "\t<tr><th></th><th scope=col>min</th><th scope=col>mean</th><th scope=col>median</th><th scope=col>max</th><th scope=col>sd</th></tr>\n",
       "\t<tr><th></th><th scope=col>&lt;dbl&gt;</th><th scope=col>&lt;dbl&gt;</th><th scope=col>&lt;dbl&gt;</th><th scope=col>&lt;dbl&gt;</th><th scope=col>&lt;dbl&gt;</th></tr>\n",
       "</thead>\n",
       "<tbody>\n",
       "\t<tr><th scope=row>price</th><td>    6.067308</td><td>    140.823270</td><td>    85.96172</td><td>   2149.227</td><td>   170.1977791</td></tr>\n",
       "\t<tr><th scope=row>battery_capacity</th><td> 1010.000000</td><td>   2938.489330</td><td>  3000.00000</td><td>   6000.000</td><td>   873.5141331</td></tr>\n",
       "\t<tr><th scope=row>screen_size</th><td>    2.400000</td><td>      5.291310</td><td>     5.20000</td><td>      7.300</td><td>     0.6713566</td></tr>\n",
       "\t<tr><th scope=row>touchscreen*</th><td>    1.000000</td><td>      1.012509</td><td>     1.00000</td><td>      2.000</td><td>     0.1111837</td></tr>\n",
       "\t<tr><th scope=row>resolution</th><td>76800.000000</td><td>1348761.262693</td><td>921600.00000</td><td>8294400.000</td><td>954735.3441324</td></tr>\n",
       "\t<tr><th scope=row>processor</th><td>    1.000000</td><td>      5.551141</td><td>     4.00000</td><td>     10.000</td><td>     2.1965624</td></tr>\n",
       "\t<tr><th scope=row>ram</th><td>   64.000000</td><td>   2488.777778</td><td>  2000.00000</td><td>  12000.000</td><td>  1664.4403861</td></tr>\n",
       "\t<tr><th scope=row>internal_storage</th><td>    0.064000</td><td>     30.654864</td><td>    16.00000</td><td>    512.000</td><td>    36.9502412</td></tr>\n",
       "\t<tr><th scope=row>rear_camera</th><td>    0.000000</td><td>     12.070199</td><td>    12.20000</td><td>    108.000</td><td>     8.9483374</td></tr>\n",
       "\t<tr><th scope=row>front_camera</th><td>    0.000000</td><td>      7.037969</td><td>     5.00000</td><td>     48.000</td><td>     6.2954481</td></tr>\n",
       "\t<tr><th scope=row>operating_system*</th><td>    1.000000</td><td>      1.120677</td><td>     1.00000</td><td>      7.000</td><td>     0.6318783</td></tr>\n",
       "\t<tr><th scope=row>gps*</th><td>    1.000000</td><td>      1.079470</td><td>     1.00000</td><td>      2.000</td><td>     0.2705708</td></tr>\n",
       "\t<tr><th scope=row>num_of_sims</th><td>    1.000000</td><td>      1.833701</td><td>     2.00000</td><td>      3.000</td><td>     0.3744574</td></tr>\n",
       "\t<tr><th scope=row>x3g*</th><td>    1.000000</td><td>      1.106696</td><td>     1.00000</td><td>      2.000</td><td>     0.3088401</td></tr>\n",
       "\t<tr><th scope=row>x4g_lte*</th><td>    1.000000</td><td>      1.255335</td><td>     1.00000</td><td>      2.000</td><td>     0.4362098</td></tr>\n",
       "</tbody>\n",
       "</table>\n"
      ],
      "text/latex": [
       "A psych: 15 × 5\n",
       "\\begin{tabular}{r|lllll}\n",
       "  & min & mean & median & max & sd\\\\\n",
       "  & <dbl> & <dbl> & <dbl> & <dbl> & <dbl>\\\\\n",
       "\\hline\n",
       "\tprice &     6.067308 &     140.823270 &     85.96172 &    2149.227 &    170.1977791\\\\\n",
       "\tbattery\\_capacity &  1010.000000 &    2938.489330 &   3000.00000 &    6000.000 &    873.5141331\\\\\n",
       "\tscreen\\_size &     2.400000 &       5.291310 &      5.20000 &       7.300 &      0.6713566\\\\\n",
       "\ttouchscreen* &     1.000000 &       1.012509 &      1.00000 &       2.000 &      0.1111837\\\\\n",
       "\tresolution & 76800.000000 & 1348761.262693 & 921600.00000 & 8294400.000 & 954735.3441324\\\\\n",
       "\tprocessor &     1.000000 &       5.551141 &      4.00000 &      10.000 &      2.1965624\\\\\n",
       "\tram &    64.000000 &    2488.777778 &   2000.00000 &   12000.000 &   1664.4403861\\\\\n",
       "\tinternal\\_storage &     0.064000 &      30.654864 &     16.00000 &     512.000 &     36.9502412\\\\\n",
       "\trear\\_camera &     0.000000 &      12.070199 &     12.20000 &     108.000 &      8.9483374\\\\\n",
       "\tfront\\_camera &     0.000000 &       7.037969 &      5.00000 &      48.000 &      6.2954481\\\\\n",
       "\toperating\\_system* &     1.000000 &       1.120677 &      1.00000 &       7.000 &      0.6318783\\\\\n",
       "\tgps* &     1.000000 &       1.079470 &      1.00000 &       2.000 &      0.2705708\\\\\n",
       "\tnum\\_of\\_sims &     1.000000 &       1.833701 &      2.00000 &       3.000 &      0.3744574\\\\\n",
       "\tx3g* &     1.000000 &       1.106696 &      1.00000 &       2.000 &      0.3088401\\\\\n",
       "\tx4g\\_lte* &     1.000000 &       1.255335 &      1.00000 &       2.000 &      0.4362098\\\\\n",
       "\\end{tabular}\n"
      ],
      "text/markdown": [
       "\n",
       "A psych: 15 × 5\n",
       "\n",
       "| <!--/--> | min &lt;dbl&gt; | mean &lt;dbl&gt; | median &lt;dbl&gt; | max &lt;dbl&gt; | sd &lt;dbl&gt; |\n",
       "|---|---|---|---|---|---|\n",
       "| price |     6.067308 |     140.823270 |     85.96172 |    2149.227 |    170.1977791 |\n",
       "| battery_capacity |  1010.000000 |    2938.489330 |   3000.00000 |    6000.000 |    873.5141331 |\n",
       "| screen_size |     2.400000 |       5.291310 |      5.20000 |       7.300 |      0.6713566 |\n",
       "| touchscreen* |     1.000000 |       1.012509 |      1.00000 |       2.000 |      0.1111837 |\n",
       "| resolution | 76800.000000 | 1348761.262693 | 921600.00000 | 8294400.000 | 954735.3441324 |\n",
       "| processor |     1.000000 |       5.551141 |      4.00000 |      10.000 |      2.1965624 |\n",
       "| ram |    64.000000 |    2488.777778 |   2000.00000 |   12000.000 |   1664.4403861 |\n",
       "| internal_storage |     0.064000 |      30.654864 |     16.00000 |     512.000 |     36.9502412 |\n",
       "| rear_camera |     0.000000 |      12.070199 |     12.20000 |     108.000 |      8.9483374 |\n",
       "| front_camera |     0.000000 |       7.037969 |      5.00000 |      48.000 |      6.2954481 |\n",
       "| operating_system* |     1.000000 |       1.120677 |      1.00000 |       7.000 |      0.6318783 |\n",
       "| gps* |     1.000000 |       1.079470 |      1.00000 |       2.000 |      0.2705708 |\n",
       "| num_of_sims |     1.000000 |       1.833701 |      2.00000 |       3.000 |      0.3744574 |\n",
       "| x3g* |     1.000000 |       1.106696 |      1.00000 |       2.000 |      0.3088401 |\n",
       "| x4g_lte* |     1.000000 |       1.255335 |      1.00000 |       2.000 |      0.4362098 |\n",
       "\n"
      ],
      "text/plain": [
       "                  min          mean           median       max        \n",
       "price                 6.067308     140.823270     85.96172    2149.227\n",
       "battery_capacity   1010.000000    2938.489330   3000.00000    6000.000\n",
       "screen_size           2.400000       5.291310      5.20000       7.300\n",
       "touchscreen*          1.000000       1.012509      1.00000       2.000\n",
       "resolution        76800.000000 1348761.262693 921600.00000 8294400.000\n",
       "processor             1.000000       5.551141      4.00000      10.000\n",
       "ram                  64.000000    2488.777778   2000.00000   12000.000\n",
       "internal_storage      0.064000      30.654864     16.00000     512.000\n",
       "rear_camera           0.000000      12.070199     12.20000     108.000\n",
       "front_camera          0.000000       7.037969      5.00000      48.000\n",
       "operating_system*     1.000000       1.120677      1.00000       7.000\n",
       "gps*                  1.000000       1.079470      1.00000       2.000\n",
       "num_of_sims           1.000000       1.833701      2.00000       3.000\n",
       "x3g*                  1.000000       1.106696      1.00000       2.000\n",
       "x4g_lte*              1.000000       1.255335      1.00000       2.000\n",
       "                  sd            \n",
       "price                170.1977791\n",
       "battery_capacity     873.5141331\n",
       "screen_size            0.6713566\n",
       "touchscreen*           0.1111837\n",
       "resolution        954735.3441324\n",
       "processor              2.1965624\n",
       "ram                 1664.4403861\n",
       "internal_storage      36.9502412\n",
       "rear_camera            8.9483374\n",
       "front_camera           6.2954481\n",
       "operating_system*      0.6318783\n",
       "gps*                   0.2705708\n",
       "num_of_sims            0.3744574\n",
       "x3g*                   0.3088401\n",
       "x4g_lte*               0.4362098"
      ]
     },
     "metadata": {},
     "output_type": "display_data"
    }
   ],
   "source": [
    "# Disabling scientific notation\n",
    "# https://stackoverflow.com/a/27318351/18184038\n",
    "options(scipen = 999)\n",
    "\n",
    "# Calculating summary statistics for the data set\n",
    "phone_data %>%\n",
    "  describe() %>%\n",
    "  select(c(min, mean, median, max, sd))"
   ]
  },
  {
   "cell_type": "markdown",
   "id": "32f88366-f957-47ce-93db-421687643018",
   "metadata": {},
   "source": [
    "## Analysis (1000)"
   ]
  },
  {
   "cell_type": "markdown",
   "id": "c5a3c12d-13a1-40cf-9a40-7614ab5cc0a3",
   "metadata": {},
   "source": [
    "## Evaluation (300)"
   ]
  },
  {
   "cell_type": "markdown",
   "id": "34fa7bc0-e31d-44e4-90ac-c7b1bd8ca5c8",
   "metadata": {},
   "source": [
    "## Conclusion (200)"
   ]
  },
  {
   "cell_type": "markdown",
   "id": "aba831ee-b07d-403f-b836-d5a5eed8daee",
   "metadata": {},
   "source": [
    "## References\n",
    "\n",
    "K. Srujan Raju, et al. *Data Engineering and Communication Technology*. Springer, 9 Jan. 2020, p. 773.\n",
    "\n",
    "Kobie, Nicole. “Why Does Buying a New Phone Have to Be so - ProQuest.” *Www.proquest.com*, Apr. 2017, www.proquest.com/docview/1985885659?accountid=14656&forcedol=true&pq-origsite=summon. Accessed 3 Dec. 2022.\n",
    "\n",
    "Tanveer, Muhammad, et al. “Mobile Phone Buying Decisions among Young Adults: An Empirical Study of Influencing Factors.” *Sustainability*, vol. 13, no. 19, 27 Sept. 2021, p. 10705, 10.3390/su131910705. Accessed 8 Oct. 2021."
   ]
  }
 ],
 "metadata": {
  "kernelspec": {
   "display_name": "R",
   "language": "R",
   "name": "ir"
  },
  "language_info": {
   "codemirror_mode": "r",
   "file_extension": ".r",
   "mimetype": "text/x-r-source",
   "name": "R",
   "pygments_lexer": "r",
   "version": "4.2.2"
  }
 },
 "nbformat": 4,
 "nbformat_minor": 5
}
