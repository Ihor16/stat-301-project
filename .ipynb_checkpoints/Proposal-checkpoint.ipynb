{
 "cells": [
  {
   "cell_type": "markdown",
   "id": "59ae95cd-a23d-4388-b5de-439269241a28",
   "metadata": {},
   "source": [
    "## Which study habits impact student performance most significantly?"
   ]
  },
  {
   "cell_type": "markdown",
   "id": "8eab3b48-3345-48ce-9d64-4c4c6d1d7eee",
   "metadata": {},
   "source": [
    "## Introduction (100 words)\n",
    "\n",
    "Some students struggle with getting good grades because they don't know how to study (!!! citation). Therefore, we want to create a statistical model that explains which study habits most significantly impact student's performance.\n",
    "\n",
    "For this, we want to analyze the student performance data collected by surveying students from Engineering and Educational Sciences faculties at 2021 (!!! dataset). This data set contains variables outlining students' studying habits and their end-of-term grades, so we plan to perform an inferential analysis to find which of the behavioral attributes are significantly associated with good performance."
   ]
  },
  {
   "cell_type": "markdown",
   "id": "8a994ca4-9e46-4e62-8167-281a7f9c33ae",
   "metadata": {},
   "source": [
    "## Exploratory Data Analysis (200 words)"
   ]
  },
  {
   "cell_type": "markdown",
   "id": "837e980d-1777-4442-9e1f-b017266d67e3",
   "metadata": {},
   "source": [
    "## Methods: Plan (200 words)"
   ]
  },
  {
   "cell_type": "markdown",
   "id": "bc8f5ec0-5c30-45d9-9682-24ccc098f0ec",
   "metadata": {},
   "source": [
    "## References"
   ]
  }
 ],
 "metadata": {
  "kernelspec": {
   "display_name": "R",
   "language": "R",
   "name": "ir"
  },
  "language_info": {
   "codemirror_mode": "r",
   "file_extension": ".r",
   "mimetype": "text/x-r-source",
   "name": "R",
   "pygments_lexer": "r",
   "version": "4.1.3"
  }
 },
 "nbformat": 4,
 "nbformat_minor": 5
}
